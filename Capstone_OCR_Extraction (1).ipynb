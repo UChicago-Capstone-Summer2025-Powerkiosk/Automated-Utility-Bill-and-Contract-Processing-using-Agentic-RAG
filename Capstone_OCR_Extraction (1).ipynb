{
  "nbformat": 4,
  "nbformat_minor": 0,
  "metadata": {
    "colab": {
      "provenance": []
    },
    "kernelspec": {
      "name": "python3",
      "display_name": "Python 3"
    },
    "language_info": {
      "name": "python"
    }
  },
  "cells": [
    {
      "cell_type": "markdown",
      "source": [
        "# Energy Bill OCR Pipeline\n",
        "\n",
        "This notebook processes 1,000 energy bill PDFs using VisionAgent and LandingAI Agentic Document Extraction API to extract structured JSON data.\n",
        "\n",
        "## Overview\n",
        "- **Input**: PDF files in `data/raw_data/`\n",
        "- **Output**: JSON files in `output_json/`\n",
        "- **APIs Used**: VisionAgent, LandingAI, Anthropic (fallback), Google Vision (OCR)\n",
        "- **Processing**: Batch processing with error handling and resume capability"
      ],
      "metadata": {
        "id": "6F900lykkfDW"
      }
    },
    {
      "cell_type": "code",
      "execution_count": 2,
      "metadata": {
        "colab": {
          "base_uri": "https://localhost:8080/"
        },
        "id": "GRUzn_NNbiHI",
        "outputId": "4c625df4-a7d4-4964-de82-6cdab3b05818"
      },
      "outputs": [
        {
          "output_type": "stream",
          "name": "stdout",
          "text": [
            "fatal: destination path 'Automated-Utility-Bill-and-Contract-Processing-using-Agentic-RAG' already exists and is not an empty directory.\n"
          ]
        }
      ],
      "source": [
        "#!git clone --branch amy-workspace --single-branch <GITHUB TOKEN>/Automated-Utility-Bill-and-Contract-Processing-using-Agentic-RAG"
      ]
    },
    {
      "cell_type": "code",
      "source": [
        "%cd /content/Automated-Utility-Bill-and-Contract-Processing-using-Agentic-RAG\n",
        "!git pull origin amy-workspace"
      ],
      "metadata": {
        "colab": {
          "base_uri": "https://localhost:8080/"
        },
        "id": "JDOynzCV3s2T",
        "outputId": "8730a315-8d39-401f-86c1-936ebb0a8bc6"
      },
      "execution_count": 3,
      "outputs": [
        {
          "output_type": "stream",
          "name": "stdout",
          "text": [
            "/content/Automated-Utility-Bill-and-Contract-Processing-using-Agentic-RAG\n",
            "From https://github.com/UChicago-Capstone-Summer2025-Powerkiosk/Automated-Utility-Bill-and-Contract-Processing-using-Agentic-RAG\n",
            " * branch            amy-workspace -> FETCH_HEAD\n",
            "Already up to date.\n"
          ]
        }
      ]
    },
    {
      "cell_type": "markdown",
      "source": [
        "## 1. Setup and Configuration"
      ],
      "metadata": {
        "id": "O1oaH0s2kvRG"
      }
    },
    {
      "cell_type": "code",
      "source": [
        "import os\n",
        "\n",
        "# Change the current working directory\n",
        "project_root = \"/content/Automated-Utility-Bill-and-Contract-Processing-using-Agentic-RAG\"\n",
        "os.chdir(project_root)"
      ],
      "metadata": {
        "id": "2hElQFxPlpZa"
      },
      "execution_count": 4,
      "outputs": []
    },
    {
      "cell_type": "code",
      "source": [
        "# Install required packages\n",
        "!pip install -r requirements.txt"
      ],
      "metadata": {
        "colab": {
          "base_uri": "https://localhost:8080/"
        },
        "id": "jm_2W-n5k0Af",
        "outputId": "0a3908b7-e0f4-4cac-fb72-05966ce20bd8"
      },
      "execution_count": 5,
      "outputs": [
        {
          "output_type": "stream",
          "name": "stdout",
          "text": [
            "Requirement already satisfied: opencv-python in /usr/local/lib/python3.11/dist-packages (from -r requirements.txt (line 1)) (4.8.1.78)\n",
            "Requirement already satisfied: pandas in /usr/local/lib/python3.11/dist-packages (from -r requirements.txt (line 2)) (2.2.2)\n",
            "Requirement already satisfied: numpy in /usr/local/lib/python3.11/dist-packages (from -r requirements.txt (line 3)) (1.26.4)\n",
            "Requirement already satisfied: scipy in /usr/local/lib/python3.11/dist-packages (from -r requirements.txt (line 4)) (1.13.1)\n",
            "Requirement already satisfied: pillow in /usr/local/lib/python3.11/dist-packages (from -r requirements.txt (line 5)) (10.1.0)\n",
            "Requirement already satisfied: pypdf2 in /usr/local/lib/python3.11/dist-packages (from -r requirements.txt (line 6)) (3.0.1)\n",
            "Requirement already satisfied: pdf2image in /usr/local/lib/python3.11/dist-packages (from -r requirements.txt (line 7)) (1.16.3)\n",
            "Requirement already satisfied: requests in /usr/local/lib/python3.11/dist-packages (from -r requirements.txt (line 8)) (2.32.3)\n",
            "Requirement already satisfied: tqdm in /usr/local/lib/python3.11/dist-packages (from -r requirements.txt (line 9)) (4.67.1)\n",
            "Requirement already satisfied: python-dotenv in /usr/local/lib/python3.11/dist-packages (from -r requirements.txt (line 10)) (1.0.0)\n",
            "Requirement already satisfied: anthropic in /usr/local/lib/python3.11/dist-packages (from -r requirements.txt (line 11)) (0.31.2)\n",
            "Requirement already satisfied: google-generativeai in /usr/local/lib/python3.11/dist-packages (from -r requirements.txt (line 12)) (0.3.2)\n",
            "Requirement already satisfied: agentic-doc in /usr/local/lib/python3.11/dist-packages (from -r requirements.txt (line 13)) (0.0.18)\n",
            "Requirement already satisfied: vision-agent>=1.0.3 in /usr/local/lib/python3.11/dist-packages (from -r requirements.txt (line 14)) (1.1.7)\n",
            "Requirement already satisfied: pydantic in /usr/local/lib/python3.11/dist-packages (from -r requirements.txt (line 15)) (2.7.4)\n",
            "Requirement already satisfied: loguru in /usr/local/lib/python3.11/dist-packages (from -r requirements.txt (line 16)) (0.7.2)\n",
            "Requirement already satisfied: pathlib in /usr/local/lib/python3.11/dist-packages (from -r requirements.txt (line 17)) (1.0.1)\n",
            "Requirement already satisfied: jsonschema in /usr/local/lib/python3.11/dist-packages (from -r requirements.txt (line 18)) (4.24.0)\n",
            "Requirement already satisfied: poppler-utils in /usr/local/lib/python3.11/dist-packages (from -r requirements.txt (line 19)) (0.1.0)\n",
            "Requirement already satisfied: pytesseract in /usr/local/lib/python3.11/dist-packages (from -r requirements.txt (line 20)) (0.3.10)\n",
            "Requirement already satisfied: protobuf in /usr/local/lib/python3.11/dist-packages (from -r requirements.txt (line 21)) (4.25.8)\n",
            "Requirement already satisfied: google-auth in /usr/local/lib/python3.11/dist-packages (from -r requirements.txt (line 22)) (2.40.3)\n",
            "Requirement already satisfied: python-dateutil>=2.8.2 in /usr/local/lib/python3.11/dist-packages (from pandas->-r requirements.txt (line 2)) (2.9.0.post0)\n",
            "Requirement already satisfied: pytz>=2020.1 in /usr/local/lib/python3.11/dist-packages (from pandas->-r requirements.txt (line 2)) (2025.2)\n",
            "Requirement already satisfied: tzdata>=2022.7 in /usr/local/lib/python3.11/dist-packages (from pandas->-r requirements.txt (line 2)) (2025.2)\n",
            "Requirement already satisfied: charset-normalizer<4,>=2 in /usr/local/lib/python3.11/dist-packages (from requests->-r requirements.txt (line 8)) (3.4.2)\n",
            "Requirement already satisfied: idna<4,>=2.5 in /usr/local/lib/python3.11/dist-packages (from requests->-r requirements.txt (line 8)) (3.10)\n",
            "Requirement already satisfied: urllib3<3,>=1.21.1 in /usr/local/lib/python3.11/dist-packages (from requests->-r requirements.txt (line 8)) (2.4.0)\n",
            "Requirement already satisfied: certifi>=2017.4.17 in /usr/local/lib/python3.11/dist-packages (from requests->-r requirements.txt (line 8)) (2025.7.9)\n",
            "Requirement already satisfied: anyio<5,>=3.5.0 in /usr/local/lib/python3.11/dist-packages (from anthropic->-r requirements.txt (line 11)) (4.9.0)\n",
            "Requirement already satisfied: distro<2,>=1.7.0 in /usr/local/lib/python3.11/dist-packages (from anthropic->-r requirements.txt (line 11)) (1.9.0)\n",
            "Requirement already satisfied: httpx<1,>=0.23.0 in /usr/local/lib/python3.11/dist-packages (from anthropic->-r requirements.txt (line 11)) (0.28.1)\n",
            "Requirement already satisfied: jiter<1,>=0.4.0 in /usr/local/lib/python3.11/dist-packages (from anthropic->-r requirements.txt (line 11)) (0.10.0)\n",
            "Requirement already satisfied: sniffio in /usr/local/lib/python3.11/dist-packages (from anthropic->-r requirements.txt (line 11)) (1.3.1)\n",
            "Requirement already satisfied: tokenizers>=0.13.0 in /usr/local/lib/python3.11/dist-packages (from anthropic->-r requirements.txt (line 11)) (0.21.2)\n",
            "Requirement already satisfied: typing-extensions<5,>=4.7 in /usr/local/lib/python3.11/dist-packages (from anthropic->-r requirements.txt (line 11)) (4.14.1)\n",
            "Requirement already satisfied: google-ai-generativelanguage==0.4.0 in /usr/local/lib/python3.11/dist-packages (from google-generativeai->-r requirements.txt (line 12)) (0.4.0)\n",
            "Requirement already satisfied: google-api-core in /usr/local/lib/python3.11/dist-packages (from google-generativeai->-r requirements.txt (line 12)) (2.25.1)\n",
            "Requirement already satisfied: proto-plus<2.0.0dev,>=1.22.3 in /usr/local/lib/python3.11/dist-packages (from google-ai-generativelanguage==0.4.0->google-generativeai->-r requirements.txt (line 12)) (1.26.1)\n",
            "Requirement already satisfied: opencv-python-headless<5.0.0.0,>=4.11.0.86 in /usr/local/lib/python3.11/dist-packages (from agentic-doc->-r requirements.txt (line 13)) (4.11.0.86)\n",
            "Requirement already satisfied: pillow-heif<0.17.0,>=0.16.0 in /usr/local/lib/python3.11/dist-packages (from agentic-doc->-r requirements.txt (line 13)) (0.16.0)\n",
            "Requirement already satisfied: pydantic-settings<3.0.0,>=2.2.1 in /usr/local/lib/python3.11/dist-packages (from agentic-doc->-r requirements.txt (line 13)) (2.10.1)\n",
            "Requirement already satisfied: pymupdf<2.0.0,>=1.25.5 in /usr/local/lib/python3.11/dist-packages (from agentic-doc->-r requirements.txt (line 13)) (1.26.3)\n",
            "Requirement already satisfied: pypdf<6.0.0,>=5.3.1 in /usr/local/lib/python3.11/dist-packages (from agentic-doc->-r requirements.txt (line 13)) (5.8.0)\n",
            "Requirement already satisfied: structlog<26.0.0,>=25.2.0 in /usr/local/lib/python3.11/dist-packages (from agentic-doc->-r requirements.txt (line 13)) (25.4.0)\n",
            "Requirement already satisfied: tenacity<9.0.0,>=8.3.0 in /usr/local/lib/python3.11/dist-packages (from agentic-doc->-r requirements.txt (line 13)) (8.5.0)\n",
            "Requirement already satisfied: annotated-types>=0.4.0 in /usr/local/lib/python3.11/dist-packages (from pydantic->-r requirements.txt (line 15)) (0.7.0)\n",
            "Requirement already satisfied: pydantic-core==2.18.4 in /usr/local/lib/python3.11/dist-packages (from pydantic->-r requirements.txt (line 15)) (2.18.4)\n",
            "Requirement already satisfied: av<12,>=11.0.0 in /usr/local/lib/python3.11/dist-packages (from vision-agent>=1.0.3->-r requirements.txt (line 14)) (11.0.0)\n",
            "Requirement already satisfied: dotenv<0.10,>=0.9.9 in /usr/local/lib/python3.11/dist-packages (from vision-agent>=1.0.3->-r requirements.txt (line 14)) (0.9.9)\n",
            "Requirement already satisfied: flake8<8,>=7.0.0 in /usr/local/lib/python3.11/dist-packages (from vision-agent>=1.0.3->-r requirements.txt (line 14)) (7.3.0)\n",
            "Requirement already satisfied: ipykernel<7,>=6.29.4 in /usr/local/lib/python3.11/dist-packages (from vision-agent>=1.0.3->-r requirements.txt (line 14)) (6.29.5)\n",
            "Requirement already satisfied: libcst<2,>=1.5.0 in /usr/local/lib/python3.11/dist-packages (from vision-agent>=1.0.3->-r requirements.txt (line 14)) (1.8.2)\n",
            "Requirement already satisfied: matplotlib<4,>=3.9.2 in /usr/local/lib/python3.11/dist-packages (from vision-agent>=1.0.3->-r requirements.txt (line 14)) (3.10.0)\n",
            "Requirement already satisfied: nbclient<0.11,>=0.10.0 in /usr/local/lib/python3.11/dist-packages (from vision-agent>=1.0.3->-r requirements.txt (line 14)) (0.10.2)\n",
            "Requirement already satisfied: nbformat<6,>=5.10.4 in /usr/local/lib/python3.11/dist-packages (from vision-agent>=1.0.3->-r requirements.txt (line 14)) (5.10.4)\n",
            "Requirement already satisfied: openai==1.* in /usr/local/lib/python3.11/dist-packages (from vision-agent>=1.0.3->-r requirements.txt (line 14)) (1.94.0)\n",
            "Requirement already satisfied: opentelemetry-api<2,>=1.29.0 in /usr/local/lib/python3.11/dist-packages (from vision-agent>=1.0.3->-r requirements.txt (line 14)) (1.35.0)\n",
            "Requirement already satisfied: pytube==15.0.0 in /usr/local/lib/python3.11/dist-packages (from vision-agent>=1.0.3->-r requirements.txt (line 14)) (15.0.0)\n",
            "Requirement already satisfied: rich<14,>=13.7.1 in /usr/local/lib/python3.11/dist-packages (from vision-agent>=1.0.3->-r requirements.txt (line 14)) (13.9.4)\n",
            "Requirement already satisfied: scikit-learn<2,>=1.5.2 in /usr/local/lib/python3.11/dist-packages (from vision-agent>=1.0.3->-r requirements.txt (line 14)) (1.6.1)\n",
            "Requirement already satisfied: tabulate<0.10,>=0.9.0 in /usr/local/lib/python3.11/dist-packages (from vision-agent>=1.0.3->-r requirements.txt (line 14)) (0.9.0)\n",
            "Requirement already satisfied: attrs>=22.2.0 in /usr/local/lib/python3.11/dist-packages (from jsonschema->-r requirements.txt (line 18)) (25.3.0)\n",
            "Requirement already satisfied: jsonschema-specifications>=2023.03.6 in /usr/local/lib/python3.11/dist-packages (from jsonschema->-r requirements.txt (line 18)) (2025.4.1)\n",
            "Requirement already satisfied: referencing>=0.28.4 in /usr/local/lib/python3.11/dist-packages (from jsonschema->-r requirements.txt (line 18)) (0.36.2)\n",
            "Requirement already satisfied: rpds-py>=0.7.1 in /usr/local/lib/python3.11/dist-packages (from jsonschema->-r requirements.txt (line 18)) (0.26.0)\n",
            "Requirement already satisfied: Click>=7.0 in /usr/local/lib/python3.11/dist-packages (from poppler-utils->-r requirements.txt (line 19)) (8.2.1)\n",
            "Requirement already satisfied: packaging>=21.3 in /usr/local/lib/python3.11/dist-packages (from pytesseract->-r requirements.txt (line 20)) (24.2)\n",
            "Requirement already satisfied: cachetools<6.0,>=2.0.0 in /usr/local/lib/python3.11/dist-packages (from google-auth->-r requirements.txt (line 22)) (5.5.2)\n",
            "Requirement already satisfied: pyasn1-modules>=0.2.1 in /usr/local/lib/python3.11/dist-packages (from google-auth->-r requirements.txt (line 22)) (0.4.2)\n",
            "Requirement already satisfied: rsa<5,>=3.1.4 in /usr/local/lib/python3.11/dist-packages (from google-auth->-r requirements.txt (line 22)) (4.9.1)\n",
            "Requirement already satisfied: mccabe<0.8.0,>=0.7.0 in /usr/local/lib/python3.11/dist-packages (from flake8<8,>=7.0.0->vision-agent>=1.0.3->-r requirements.txt (line 14)) (0.7.0)\n",
            "Requirement already satisfied: pycodestyle<2.15.0,>=2.14.0 in /usr/local/lib/python3.11/dist-packages (from flake8<8,>=7.0.0->vision-agent>=1.0.3->-r requirements.txt (line 14)) (2.14.0)\n",
            "Requirement already satisfied: pyflakes<3.5.0,>=3.4.0 in /usr/local/lib/python3.11/dist-packages (from flake8<8,>=7.0.0->vision-agent>=1.0.3->-r requirements.txt (line 14)) (3.4.0)\n",
            "Requirement already satisfied: googleapis-common-protos<2.0.0,>=1.56.2 in /usr/local/lib/python3.11/dist-packages (from google-api-core->google-generativeai->-r requirements.txt (line 12)) (1.70.0)\n",
            "Requirement already satisfied: httpcore==1.* in /usr/local/lib/python3.11/dist-packages (from httpx<1,>=0.23.0->anthropic->-r requirements.txt (line 11)) (1.0.9)\n",
            "Requirement already satisfied: h11>=0.16 in /usr/local/lib/python3.11/dist-packages (from httpcore==1.*->httpx<1,>=0.23.0->anthropic->-r requirements.txt (line 11)) (0.16.0)\n",
            "Requirement already satisfied: comm>=0.1.1 in /usr/local/lib/python3.11/dist-packages (from ipykernel<7,>=6.29.4->vision-agent>=1.0.3->-r requirements.txt (line 14)) (0.2.2)\n",
            "Requirement already satisfied: debugpy>=1.6.5 in /usr/local/lib/python3.11/dist-packages (from ipykernel<7,>=6.29.4->vision-agent>=1.0.3->-r requirements.txt (line 14)) (1.8.0)\n",
            "Requirement already satisfied: ipython>=7.23.1 in /usr/local/lib/python3.11/dist-packages (from ipykernel<7,>=6.29.4->vision-agent>=1.0.3->-r requirements.txt (line 14)) (7.34.0)\n",
            "Requirement already satisfied: jupyter-client>=6.1.12 in /usr/local/lib/python3.11/dist-packages (from ipykernel<7,>=6.29.4->vision-agent>=1.0.3->-r requirements.txt (line 14)) (6.1.12)\n",
            "Requirement already satisfied: jupyter-core!=5.0.*,>=4.12 in /usr/local/lib/python3.11/dist-packages (from ipykernel<7,>=6.29.4->vision-agent>=1.0.3->-r requirements.txt (line 14)) (5.8.1)\n",
            "Requirement already satisfied: matplotlib-inline>=0.1 in /usr/local/lib/python3.11/dist-packages (from ipykernel<7,>=6.29.4->vision-agent>=1.0.3->-r requirements.txt (line 14)) (0.1.7)\n",
            "Requirement already satisfied: nest-asyncio in /usr/local/lib/python3.11/dist-packages (from ipykernel<7,>=6.29.4->vision-agent>=1.0.3->-r requirements.txt (line 14)) (1.6.0)\n",
            "Requirement already satisfied: psutil in /usr/local/lib/python3.11/dist-packages (from ipykernel<7,>=6.29.4->vision-agent>=1.0.3->-r requirements.txt (line 14)) (5.9.5)\n",
            "Requirement already satisfied: pyzmq>=24 in /usr/local/lib/python3.11/dist-packages (from ipykernel<7,>=6.29.4->vision-agent>=1.0.3->-r requirements.txt (line 14)) (24.0.1)\n",
            "Requirement already satisfied: tornado>=6.1 in /usr/local/lib/python3.11/dist-packages (from ipykernel<7,>=6.29.4->vision-agent>=1.0.3->-r requirements.txt (line 14)) (6.4.2)\n",
            "Requirement already satisfied: traitlets>=5.4.0 in /usr/local/lib/python3.11/dist-packages (from ipykernel<7,>=6.29.4->vision-agent>=1.0.3->-r requirements.txt (line 14)) (5.7.1)\n",
            "Requirement already satisfied: pyyaml>=5.2 in /usr/local/lib/python3.11/dist-packages (from libcst<2,>=1.5.0->vision-agent>=1.0.3->-r requirements.txt (line 14)) (6.0.2)\n",
            "Requirement already satisfied: contourpy>=1.0.1 in /usr/local/lib/python3.11/dist-packages (from matplotlib<4,>=3.9.2->vision-agent>=1.0.3->-r requirements.txt (line 14)) (1.3.2)\n",
            "Requirement already satisfied: cycler>=0.10 in /usr/local/lib/python3.11/dist-packages (from matplotlib<4,>=3.9.2->vision-agent>=1.0.3->-r requirements.txt (line 14)) (0.12.1)\n",
            "Requirement already satisfied: fonttools>=4.22.0 in /usr/local/lib/python3.11/dist-packages (from matplotlib<4,>=3.9.2->vision-agent>=1.0.3->-r requirements.txt (line 14)) (4.58.5)\n",
            "Requirement already satisfied: kiwisolver>=1.3.1 in /usr/local/lib/python3.11/dist-packages (from matplotlib<4,>=3.9.2->vision-agent>=1.0.3->-r requirements.txt (line 14)) (1.4.8)\n",
            "Requirement already satisfied: pyparsing>=2.3.1 in /usr/local/lib/python3.11/dist-packages (from matplotlib<4,>=3.9.2->vision-agent>=1.0.3->-r requirements.txt (line 14)) (3.2.3)\n",
            "Requirement already satisfied: fastjsonschema>=2.15 in /usr/local/lib/python3.11/dist-packages (from nbformat<6,>=5.10.4->vision-agent>=1.0.3->-r requirements.txt (line 14)) (2.21.1)\n",
            "Requirement already satisfied: importlib-metadata<8.8.0,>=6.0 in /usr/local/lib/python3.11/dist-packages (from opentelemetry-api<2,>=1.29.0->vision-agent>=1.0.3->-r requirements.txt (line 14)) (8.7.0)\n",
            "Requirement already satisfied: pyasn1<0.7.0,>=0.6.1 in /usr/local/lib/python3.11/dist-packages (from pyasn1-modules>=0.2.1->google-auth->-r requirements.txt (line 22)) (0.6.1)\n",
            "Requirement already satisfied: typing-inspection>=0.4.0 in /usr/local/lib/python3.11/dist-packages (from pydantic-settings<3.0.0,>=2.2.1->agentic-doc->-r requirements.txt (line 13)) (0.4.1)\n",
            "Requirement already satisfied: six>=1.5 in /usr/local/lib/python3.11/dist-packages (from python-dateutil>=2.8.2->pandas->-r requirements.txt (line 2)) (1.17.0)\n",
            "Requirement already satisfied: markdown-it-py>=2.2.0 in /usr/local/lib/python3.11/dist-packages (from rich<14,>=13.7.1->vision-agent>=1.0.3->-r requirements.txt (line 14)) (3.0.0)\n",
            "Requirement already satisfied: pygments<3.0.0,>=2.13.0 in /usr/local/lib/python3.11/dist-packages (from rich<14,>=13.7.1->vision-agent>=1.0.3->-r requirements.txt (line 14)) (2.19.2)\n",
            "Requirement already satisfied: joblib>=1.2.0 in /usr/local/lib/python3.11/dist-packages (from scikit-learn<2,>=1.5.2->vision-agent>=1.0.3->-r requirements.txt (line 14)) (1.5.1)\n",
            "Requirement already satisfied: threadpoolctl>=3.1.0 in /usr/local/lib/python3.11/dist-packages (from scikit-learn<2,>=1.5.2->vision-agent>=1.0.3->-r requirements.txt (line 14)) (3.6.0)\n",
            "Requirement already satisfied: huggingface-hub<1.0,>=0.16.4 in /usr/local/lib/python3.11/dist-packages (from tokenizers>=0.13.0->anthropic->-r requirements.txt (line 11)) (0.33.2)\n",
            "Requirement already satisfied: grpcio<2.0.0,>=1.33.2 in /usr/local/lib/python3.11/dist-packages (from google-api-core[grpc]!=2.0.*,!=2.1.*,!=2.10.*,!=2.2.*,!=2.3.*,!=2.4.*,!=2.5.*,!=2.6.*,!=2.7.*,!=2.8.*,!=2.9.*,<3.0.0dev,>=1.34.0->google-ai-generativelanguage==0.4.0->google-generativeai->-r requirements.txt (line 12)) (1.73.1)\n",
            "Requirement already satisfied: grpcio-status<2.0.0,>=1.33.2 in /usr/local/lib/python3.11/dist-packages (from google-api-core[grpc]!=2.0.*,!=2.1.*,!=2.10.*,!=2.2.*,!=2.3.*,!=2.4.*,!=2.5.*,!=2.6.*,!=2.7.*,!=2.8.*,!=2.9.*,<3.0.0dev,>=1.34.0->google-ai-generativelanguage==0.4.0->google-generativeai->-r requirements.txt (line 12)) (1.62.3)\n",
            "Requirement already satisfied: filelock in /usr/local/lib/python3.11/dist-packages (from huggingface-hub<1.0,>=0.16.4->tokenizers>=0.13.0->anthropic->-r requirements.txt (line 11)) (3.18.0)\n",
            "Requirement already satisfied: fsspec>=2023.5.0 in /usr/local/lib/python3.11/dist-packages (from huggingface-hub<1.0,>=0.16.4->tokenizers>=0.13.0->anthropic->-r requirements.txt (line 11)) (2025.3.2)\n",
            "Requirement already satisfied: hf-xet<2.0.0,>=1.1.2 in /usr/local/lib/python3.11/dist-packages (from huggingface-hub<1.0,>=0.16.4->tokenizers>=0.13.0->anthropic->-r requirements.txt (line 11)) (1.1.5)\n",
            "Requirement already satisfied: zipp>=3.20 in /usr/local/lib/python3.11/dist-packages (from importlib-metadata<8.8.0,>=6.0->opentelemetry-api<2,>=1.29.0->vision-agent>=1.0.3->-r requirements.txt (line 14)) (3.23.0)\n",
            "Requirement already satisfied: setuptools>=18.5 in /usr/local/lib/python3.11/dist-packages (from ipython>=7.23.1->ipykernel<7,>=6.29.4->vision-agent>=1.0.3->-r requirements.txt (line 14)) (75.2.0)\n",
            "Requirement already satisfied: jedi>=0.16 in /usr/local/lib/python3.11/dist-packages (from ipython>=7.23.1->ipykernel<7,>=6.29.4->vision-agent>=1.0.3->-r requirements.txt (line 14)) (0.19.2)\n",
            "Requirement already satisfied: decorator in /usr/local/lib/python3.11/dist-packages (from ipython>=7.23.1->ipykernel<7,>=6.29.4->vision-agent>=1.0.3->-r requirements.txt (line 14)) (4.4.2)\n",
            "Requirement already satisfied: pickleshare in /usr/local/lib/python3.11/dist-packages (from ipython>=7.23.1->ipykernel<7,>=6.29.4->vision-agent>=1.0.3->-r requirements.txt (line 14)) (0.7.5)\n",
            "Requirement already satisfied: prompt-toolkit!=3.0.0,!=3.0.1,<3.1.0,>=2.0.0 in /usr/local/lib/python3.11/dist-packages (from ipython>=7.23.1->ipykernel<7,>=6.29.4->vision-agent>=1.0.3->-r requirements.txt (line 14)) (3.0.51)\n",
            "Requirement already satisfied: backcall in /usr/local/lib/python3.11/dist-packages (from ipython>=7.23.1->ipykernel<7,>=6.29.4->vision-agent>=1.0.3->-r requirements.txt (line 14)) (0.2.0)\n",
            "Requirement already satisfied: pexpect>4.3 in /usr/local/lib/python3.11/dist-packages (from ipython>=7.23.1->ipykernel<7,>=6.29.4->vision-agent>=1.0.3->-r requirements.txt (line 14)) (4.9.0)\n",
            "Requirement already satisfied: platformdirs>=2.5 in /usr/local/lib/python3.11/dist-packages (from jupyter-core!=5.0.*,>=4.12->ipykernel<7,>=6.29.4->vision-agent>=1.0.3->-r requirements.txt (line 14)) (4.3.8)\n",
            "Requirement already satisfied: mdurl~=0.1 in /usr/local/lib/python3.11/dist-packages (from markdown-it-py>=2.2.0->rich<14,>=13.7.1->vision-agent>=1.0.3->-r requirements.txt (line 14)) (0.1.2)\n",
            "Requirement already satisfied: parso<0.9.0,>=0.8.4 in /usr/local/lib/python3.11/dist-packages (from jedi>=0.16->ipython>=7.23.1->ipykernel<7,>=6.29.4->vision-agent>=1.0.3->-r requirements.txt (line 14)) (0.8.4)\n",
            "Requirement already satisfied: ptyprocess>=0.5 in /usr/local/lib/python3.11/dist-packages (from pexpect>4.3->ipython>=7.23.1->ipykernel<7,>=6.29.4->vision-agent>=1.0.3->-r requirements.txt (line 14)) (0.7.0)\n",
            "Requirement already satisfied: wcwidth in /usr/local/lib/python3.11/dist-packages (from prompt-toolkit!=3.0.0,!=3.0.1,<3.1.0,>=2.0.0->ipython>=7.23.1->ipykernel<7,>=6.29.4->vision-agent>=1.0.3->-r requirements.txt (line 14)) (0.2.13)\n"
          ]
        }
      ]
    },
    {
      "cell_type": "code",
      "source": [
        "# Import required modules\n",
        "import sys\n",
        "import json\n",
        "import getpass\n",
        "import pdf2image\n",
        "from pathlib import Path\n",
        "from datetime import datetime\n",
        "from concurrent.futures import ThreadPoolExecutor, as_completed\n",
        "from tqdm import tqdm\n",
        "import pandas as pd\n",
        "\n",
        "# Import custom modules (make sure these files are in your working directory or PYTHONPATH)\n",
        "from config import PipelineConfig, LOG_CONFIG\n",
        "from utils import DocumentProcessor, DataValidator, FileManager, ProgressTracker\n",
        "from api_clients import HybridExtractionClient\n",
        "\n",
        "# Setup logging\n",
        "from loguru import logger\n",
        "logger.add(\"logs/pipeline.log\", **LOG_CONFIG)\n",
        "\n",
        "print(\"All modules imported successfully\")"
      ],
      "metadata": {
        "colab": {
          "base_uri": "https://localhost:8080/",
          "height": 506
        },
        "id": "0AfLETm6cFLW",
        "outputId": "7b8969e0-45b8-4015-c17e-37d776a1cbe1"
      },
      "execution_count": 6,
      "outputs": [
        {
          "output_type": "error",
          "ename": "ImportError",
          "evalue": "cannot import name 'VisionAgent' from 'vision_agent.agent' (/usr/local/lib/python3.11/dist-packages/vision_agent/agent/__init__.py)",
          "traceback": [
            "\u001b[0;31m---------------------------------------------------------------------------\u001b[0m",
            "\u001b[0;31mImportError\u001b[0m                               Traceback (most recent call last)",
            "\u001b[0;32m/tmp/ipython-input-6-546275608.py\u001b[0m in \u001b[0;36m<cell line: 0>\u001b[0;34m()\u001b[0m\n\u001b[1;32m     13\u001b[0m \u001b[0;32mfrom\u001b[0m \u001b[0mconfig\u001b[0m \u001b[0;32mimport\u001b[0m \u001b[0mPipelineConfig\u001b[0m\u001b[0;34m,\u001b[0m \u001b[0mLOG_CONFIG\u001b[0m\u001b[0;34m\u001b[0m\u001b[0;34m\u001b[0m\u001b[0m\n\u001b[1;32m     14\u001b[0m \u001b[0;32mfrom\u001b[0m \u001b[0mutils\u001b[0m \u001b[0;32mimport\u001b[0m \u001b[0mDocumentProcessor\u001b[0m\u001b[0;34m,\u001b[0m \u001b[0mDataValidator\u001b[0m\u001b[0;34m,\u001b[0m \u001b[0mFileManager\u001b[0m\u001b[0;34m,\u001b[0m \u001b[0mProgressTracker\u001b[0m\u001b[0;34m\u001b[0m\u001b[0;34m\u001b[0m\u001b[0m\n\u001b[0;32m---> 15\u001b[0;31m \u001b[0;32mfrom\u001b[0m \u001b[0mapi_clients\u001b[0m \u001b[0;32mimport\u001b[0m \u001b[0mHybridExtractionClient\u001b[0m\u001b[0;34m\u001b[0m\u001b[0;34m\u001b[0m\u001b[0m\n\u001b[0m\u001b[1;32m     16\u001b[0m \u001b[0;34m\u001b[0m\u001b[0m\n\u001b[1;32m     17\u001b[0m \u001b[0;31m# Setup logging\u001b[0m\u001b[0;34m\u001b[0m\u001b[0;34m\u001b[0m\u001b[0m\n",
            "\u001b[0;32m/content/Automated-Utility-Bill-and-Contract-Processing-using-Agentic-RAG/api_clients.py\u001b[0m in \u001b[0;36m<module>\u001b[0;34m\u001b[0m\n\u001b[1;32m     14\u001b[0m \u001b[0;32mimport\u001b[0m \u001b[0manthropic\u001b[0m\u001b[0;34m\u001b[0m\u001b[0;34m\u001b[0m\u001b[0m\n\u001b[1;32m     15\u001b[0m \u001b[0;32mimport\u001b[0m \u001b[0mgoogle\u001b[0m\u001b[0;34m.\u001b[0m\u001b[0mgenerativeai\u001b[0m \u001b[0;32mas\u001b[0m \u001b[0mgenai\u001b[0m\u001b[0;34m\u001b[0m\u001b[0;34m\u001b[0m\u001b[0m\n\u001b[0;32m---> 16\u001b[0;31m \u001b[0;32mfrom\u001b[0m \u001b[0mvision_agent\u001b[0m\u001b[0;34m.\u001b[0m\u001b[0magent\u001b[0m \u001b[0;32mimport\u001b[0m \u001b[0mVisionAgent\u001b[0m\u001b[0;34m\u001b[0m\u001b[0;34m\u001b[0m\u001b[0m\n\u001b[0m\u001b[1;32m     17\u001b[0m \u001b[0;32mfrom\u001b[0m \u001b[0magentic_doc\u001b[0m\u001b[0;34m.\u001b[0m\u001b[0mparse\u001b[0m \u001b[0;32mimport\u001b[0m \u001b[0mparse\u001b[0m\u001b[0;34m\u001b[0m\u001b[0;34m\u001b[0m\u001b[0m\n\u001b[1;32m     18\u001b[0m \u001b[0;34m\u001b[0m\u001b[0m\n",
            "\u001b[0;31mImportError\u001b[0m: cannot import name 'VisionAgent' from 'vision_agent.agent' (/usr/local/lib/python3.11/dist-packages/vision_agent/agent/__init__.py)",
            "",
            "\u001b[0;31m---------------------------------------------------------------------------\u001b[0;32m\nNOTE: If your import is failing due to a missing package, you can\nmanually install dependencies using either !pip or !apt.\n\nTo view examples of installing some common dependencies, click the\n\"Open Examples\" button below.\n\u001b[0;31m---------------------------------------------------------------------------\u001b[0m\n"
          ],
          "errorDetails": {
            "actions": [
              {
                "action": "open_url",
                "actionText": "Open Examples",
                "url": "/notebooks/snippets/importing_libraries.ipynb"
              }
            ]
          }
        }
      ]
    },
    {
      "cell_type": "markdown",
      "source": [
        "## 2. API Key Configuration"
      ],
      "metadata": {
        "id": "gWCfvG_OlJfo"
      }
    },
    {
      "cell_type": "code",
      "source": [
        "# Collect API keys securely\n",
        "print(\"Please enter your API keys:\")\n",
        "print(\"(Keys will not be displayed or stored in the notebook)\\n\")\n",
        "\n",
        "vision_agent_key = getpass.getpass(\"VisionAgent API Key: \")\n",
        "landing_ai_key = getpass.getpass(\"LandingAI API Key: \")\n",
        "anthropic_key = getpass.getpass(\"Anthropic API Key: \")\n",
        "google_key = getpass.getpass(\"Google API Key: \")\n",
        "\n",
        "# Validate keys are provided\n",
        "if not all([vision_agent_key, landing_ai_key, anthropic_key, google_key]):\n",
        "    raise ValueError(\"All API keys are required\")\n",
        "\n",
        "print(\"API keys configured successfully\")"
      ],
      "metadata": {
        "colab": {
          "base_uri": "https://localhost:8080/"
        },
        "id": "UPD94hoTcFOO",
        "outputId": "8bf3bb01-4b18-4cd9-ca59-6b59aafa8e2f"
      },
      "execution_count": 21,
      "outputs": [
        {
          "output_type": "stream",
          "name": "stdout",
          "text": [
            "Please enter your API keys:\n",
            "(Keys will not be displayed or stored in the notebook)\n",
            "\n",
            "VisionAgent API Key: ··········\n",
            "LandingAI API Key: ··········\n",
            "Anthropic API Key: ··········\n",
            "Google API Key: ··········\n",
            "API keys configured successfully\n"
          ]
        }
      ]
    },
    {
      "cell_type": "markdown",
      "source": [
        "## 3. Initialize Pipeline Components"
      ],
      "metadata": {
        "id": "vg13WUa9o8Zo"
      }
    },
    {
      "cell_type": "code",
      "source": [
        "# Initialize configuration\n",
        "config = PipelineConfig()\n",
        "config.create_directories()\n",
        "\n",
        "# Initialize components\n",
        "doc_processor = DocumentProcessor(dpi=config.PDF_DPI)\n",
        "validator = DataValidator()\n",
        "file_manager = FileManager(config.INPUT_DIR, config.OUTPUT_DIR)\n",
        "progress_tracker = ProgressTracker(\"logs/processing_progress.json\")\n",
        "\n",
        "# Initialize API client\n",
        "api_client = HybridExtractionClient(\n",
        "    vision_agent_key=vision_agent_key,\n",
        "    landing_ai_key=landing_ai_key,\n",
        "    anthropic_key=anthropic_key,\n",
        "    google_key=google_key\n",
        ")\n",
        "\n",
        "print(\"Pipeline components initialized\")\n",
        "print(f\"Input directory: {config.INPUT_DIR}\")\n",
        "print(f\"Output directory: {config.OUTPUT_DIR}\")\n",
        "print(f\"Logs directory: {config.LOG_DIR}\")"
      ],
      "metadata": {
        "colab": {
          "base_uri": "https://localhost:8080/",
          "height": 373
        },
        "id": "EdRrDng_o932",
        "outputId": "f6f109bd-9ab8-4aa2-9812-a862081a8653"
      },
      "execution_count": 28,
      "outputs": [
        {
          "output_type": "error",
          "ename": "OpenAIError",
          "evalue": "The api_key client option must be set either by passing api_key to the client or by setting the OPENAI_API_KEY environment variable",
          "traceback": [
            "\u001b[0;31m---------------------------------------------------------------------------\u001b[0m",
            "\u001b[0;31mOpenAIError\u001b[0m                               Traceback (most recent call last)",
            "\u001b[0;32m/tmp/ipython-input-28-1251713906.py\u001b[0m in \u001b[0;36m<cell line: 0>\u001b[0;34m()\u001b[0m\n\u001b[1;32m     10\u001b[0m \u001b[0;34m\u001b[0m\u001b[0m\n\u001b[1;32m     11\u001b[0m \u001b[0;31m# Initialize API client\u001b[0m\u001b[0;34m\u001b[0m\u001b[0;34m\u001b[0m\u001b[0m\n\u001b[0;32m---> 12\u001b[0;31m api_client = HybridExtractionClient(\n\u001b[0m\u001b[1;32m     13\u001b[0m     \u001b[0mvision_agent_key\u001b[0m\u001b[0;34m=\u001b[0m\u001b[0mvision_agent_key\u001b[0m\u001b[0;34m,\u001b[0m\u001b[0;34m\u001b[0m\u001b[0;34m\u001b[0m\u001b[0m\n\u001b[1;32m     14\u001b[0m     \u001b[0mlanding_ai_key\u001b[0m\u001b[0;34m=\u001b[0m\u001b[0mlanding_ai_key\u001b[0m\u001b[0;34m,\u001b[0m\u001b[0;34m\u001b[0m\u001b[0;34m\u001b[0m\u001b[0m\n",
            "\u001b[0;32m/content/Automated-Utility-Bill-and-Contract-Processing-using-Agentic-RAG/api_clients.py\u001b[0m in \u001b[0;36m__init__\u001b[0;34m(self, vision_agent_key, landing_ai_key, anthropic_key, google_key)\u001b[0m\n\u001b[1;32m    377\u001b[0m     def __init__(self, vision_agent_key: str, landing_ai_key: str,\n\u001b[1;32m    378\u001b[0m                  anthropic_key: str, google_key: str):\n\u001b[0;32m--> 379\u001b[0;31m         \u001b[0mself\u001b[0m\u001b[0;34m.\u001b[0m\u001b[0mvision_agent\u001b[0m \u001b[0;34m=\u001b[0m \u001b[0mVisionAgent\u001b[0m\u001b[0;34m(\u001b[0m\u001b[0mapi_key\u001b[0m\u001b[0;34m=\u001b[0m\u001b[0mvision_agent_key\u001b[0m\u001b[0;34m)\u001b[0m\u001b[0;34m\u001b[0m\u001b[0;34m\u001b[0m\u001b[0m\n\u001b[0m\u001b[1;32m    380\u001b[0m         \u001b[0mself\u001b[0m\u001b[0;34m.\u001b[0m\u001b[0mlanding_ai\u001b[0m \u001b[0;34m=\u001b[0m \u001b[0mparse\u001b[0m\u001b[0;34m(\u001b[0m\u001b[0mlanding_ai_key\u001b[0m\u001b[0;34m)\u001b[0m\u001b[0;34m\u001b[0m\u001b[0;34m\u001b[0m\u001b[0m\n\u001b[1;32m    381\u001b[0m         \u001b[0mself\u001b[0m\u001b[0;34m.\u001b[0m\u001b[0manthropic\u001b[0m \u001b[0;34m=\u001b[0m \u001b[0mAnthropicClient\u001b[0m\u001b[0;34m(\u001b[0m\u001b[0manthropic_key\u001b[0m\u001b[0;34m)\u001b[0m\u001b[0;34m\u001b[0m\u001b[0;34m\u001b[0m\u001b[0m\n",
            "\u001b[0;32m/usr/local/lib/python3.11/dist-packages/vision_agent/agent/vision_agent.py\u001b[0m in \u001b[0;36m__init__\u001b[0;34m(self, task_model, answer_model, reflect_model, max_retries, verbose, report_progress_callback)\u001b[0m\n\u001b[1;32m    470\u001b[0m         )\n\u001b[1;32m    471\u001b[0m         self.answer_model = (\n\u001b[0;32m--> 472\u001b[0;31m             \u001b[0mOpenAILLM\u001b[0m\u001b[0;34m(\u001b[0m\u001b[0mtemperature\u001b[0m\u001b[0;34m=\u001b[0m\u001b[0;36m0.1\u001b[0m\u001b[0;34m)\u001b[0m \u001b[0;32mif\u001b[0m \u001b[0manswer_model\u001b[0m \u001b[0;32mis\u001b[0m \u001b[0;32mNone\u001b[0m \u001b[0;32melse\u001b[0m \u001b[0manswer_model\u001b[0m\u001b[0;34m\u001b[0m\u001b[0;34m\u001b[0m\u001b[0m\n\u001b[0m\u001b[1;32m    473\u001b[0m         )\n\u001b[1;32m    474\u001b[0m         self.reflect_model = (\n",
            "\u001b[0;32m/usr/local/lib/python3.11/dist-packages/vision_agent/llm/llm.py\u001b[0m in \u001b[0;36m__init__\u001b[0;34m(self, model_name, api_key, json_mode, system_prompt, **kwargs)\u001b[0m\n\u001b[1;32m     42\u001b[0m     ):\n\u001b[1;32m     43\u001b[0m         \u001b[0;32mif\u001b[0m \u001b[0;32mnot\u001b[0m \u001b[0mapi_key\u001b[0m\u001b[0;34m:\u001b[0m\u001b[0;34m\u001b[0m\u001b[0;34m\u001b[0m\u001b[0m\n\u001b[0;32m---> 44\u001b[0;31m             \u001b[0mself\u001b[0m\u001b[0;34m.\u001b[0m\u001b[0mclient\u001b[0m \u001b[0;34m=\u001b[0m \u001b[0mOpenAI\u001b[0m\u001b[0;34m(\u001b[0m\u001b[0;34m)\u001b[0m\u001b[0;34m\u001b[0m\u001b[0;34m\u001b[0m\u001b[0m\n\u001b[0m\u001b[1;32m     45\u001b[0m         \u001b[0;32melse\u001b[0m\u001b[0;34m:\u001b[0m\u001b[0;34m\u001b[0m\u001b[0;34m\u001b[0m\u001b[0m\n\u001b[1;32m     46\u001b[0m             \u001b[0mself\u001b[0m\u001b[0;34m.\u001b[0m\u001b[0mclient\u001b[0m \u001b[0;34m=\u001b[0m \u001b[0mOpenAI\u001b[0m\u001b[0;34m(\u001b[0m\u001b[0mapi_key\u001b[0m\u001b[0;34m=\u001b[0m\u001b[0mapi_key\u001b[0m\u001b[0;34m)\u001b[0m\u001b[0;34m\u001b[0m\u001b[0;34m\u001b[0m\u001b[0m\n",
            "\u001b[0;32m/usr/local/lib/python3.11/dist-packages/openai/_client.py\u001b[0m in \u001b[0;36m__init__\u001b[0;34m(self, api_key, organization, project, webhook_secret, base_url, websocket_base_url, timeout, max_retries, default_headers, default_query, http_client, _strict_response_validation)\u001b[0m\n\u001b[1;32m    128\u001b[0m             \u001b[0mapi_key\u001b[0m \u001b[0;34m=\u001b[0m \u001b[0mos\u001b[0m\u001b[0;34m.\u001b[0m\u001b[0menviron\u001b[0m\u001b[0;34m.\u001b[0m\u001b[0mget\u001b[0m\u001b[0;34m(\u001b[0m\u001b[0;34m\"OPENAI_API_KEY\"\u001b[0m\u001b[0;34m)\u001b[0m\u001b[0;34m\u001b[0m\u001b[0;34m\u001b[0m\u001b[0m\n\u001b[1;32m    129\u001b[0m         \u001b[0;32mif\u001b[0m \u001b[0mapi_key\u001b[0m \u001b[0;32mis\u001b[0m \u001b[0;32mNone\u001b[0m\u001b[0;34m:\u001b[0m\u001b[0;34m\u001b[0m\u001b[0;34m\u001b[0m\u001b[0m\n\u001b[0;32m--> 130\u001b[0;31m             raise OpenAIError(\n\u001b[0m\u001b[1;32m    131\u001b[0m                 \u001b[0;34m\"The api_key client option must be set either by passing api_key to the client or by setting the OPENAI_API_KEY environment variable\"\u001b[0m\u001b[0;34m\u001b[0m\u001b[0;34m\u001b[0m\u001b[0m\n\u001b[1;32m    132\u001b[0m             )\n",
            "\u001b[0;31mOpenAIError\u001b[0m: The api_key client option must be set either by passing api_key to the client or by setting the OPENAI_API_KEY environment variable"
          ]
        }
      ]
    },
    {
      "cell_type": "markdown",
      "source": [
        "## 4. Load Prompts and Validate Setup"
      ],
      "metadata": {
        "id": "KGuh5cFzqSUR"
      }
    },
    {
      "cell_type": "code",
      "source": [
        "# Load prompts from prompt.txt\n",
        "try:\n",
        "    with open('prompt.txt', 'r', encoding='utf-8') as f:\n",
        "        prompt_content = f.read()\n",
        "\n",
        "    # Extract individual prompts (assumes prompt format key = \"\"\"value\"\"\")\n",
        "    prompts = {}\n",
        "    sections = prompt_content.split('\\n\\n')\n",
        "\n",
        "    for section in sections:\n",
        "        if ' = \"\"\"' in section:\n",
        "            key = section.split(' = \"\"\"')[0].strip()\n",
        "            value = section.split(' = \"\"\"')[1].split('\"\"\"')[0].strip()\n",
        "            prompts[key] = value\n",
        "\n",
        "    print(\"Prompts loaded successfully\")\n",
        "    print(f\"Available prompts: {list(prompts.keys())}\")\n",
        "\n",
        "except FileNotFoundError:\n",
        "    print(\"prompt.txt not found. Please ensure it's in the current directory.\")\n",
        "    sys.exit(1)"
      ],
      "metadata": {
        "id": "hVIfE18EqZou"
      },
      "execution_count": null,
      "outputs": []
    },
    {
      "cell_type": "markdown",
      "source": [
        "## 5. File Discovery and Batch Planning"
      ],
      "metadata": {
        "id": "wCqeZSnDqy8V"
      }
    },
    {
      "cell_type": "code",
      "source": [
        "# Discover PDF files\n",
        "pdf_files = file_manager.get_pdf_files()\n",
        "print(f\"Found {len(pdf_files)} PDF files\")\n",
        "\n",
        "# Check for already processed files\n",
        "unprocessed_files = progress_tracker.get_unprocessed_files(pdf_files)\n",
        "print(f\"⏳ Unprocessed files: {len(unprocessed_files)}\")\n",
        "\n",
        "if len(unprocessed_files) == 0:\n",
        "    print(\"All files have been processed!\")\n",
        "else:\n",
        "    # Update progress tracking metadata\n",
        "    progress_tracker.progress_data[\"total_files\"] = len(pdf_files)\n",
        "    progress_tracker.progress_data[\"start_time\"] = datetime.now().isoformat()\n",
        "    progress_tracker.save_progress()\n",
        "\n",
        "    # Create batches\n",
        "    batches = file_manager.create_batches(unprocessed_files, config.BATCH_SIZE)\n",
        "    print(f\"Created {len(batches)} batches of {config.BATCH_SIZE} files each\")\n",
        "\n",
        "    # Display sample files\n",
        "    print(\"\\nSample files to process:\")\n",
        "    for i, file_path in enumerate(unprocessed_files[:5]):\n",
        "        print(f\"  {i+1}. {file_path.name}\")\n",
        "\n",
        "    if len(unprocessed_files) > 5:\n",
        "        print(f\"  ... and {len(unprocessed_files) - 5} more files\")"
      ],
      "metadata": {
        "id": "B7vBwLEfqzt8"
      },
      "execution_count": null,
      "outputs": []
    },
    {
      "cell_type": "markdown",
      "source": [
        "## 6. Define Processing Functions"
      ],
      "metadata": {
        "id": "3o4oAv6nq3ni"
      }
    },
    {
      "cell_type": "code",
      "source": [
        "def process_single_pdf(pdf_path: Path) -> dict:\n",
        "    \"\"\"\n",
        "    Process a single PDF file through the complete pipeline\n",
        "    \"\"\"\n",
        "    result = {\n",
        "        'filename': pdf_path.name,\n",
        "        'success': False,\n",
        "        'data': None,\n",
        "        'error': None,\n",
        "        'processing_time': 0,\n",
        "        'confidence_score': 0.0\n",
        "    }\n",
        "\n",
        "    start_time = datetime.now()\n",
        "\n",
        "    try:\n",
        "        logger.info(f\"Processing: {pdf_path.name}\")\n",
        "\n",
        "        # Step 1: Convert PDF to images\n",
        "        temp_dir = Path(config.TEMP_DIR) / pdf_path.stem\n",
        "        temp_dir.mkdir(parents=True, exist_ok=True)\n",
        "\n",
        "        image_paths = doc_processor.pdf_to_images(str(pdf_path), str(temp_dir))\n",
        "\n",
        "        if not image_paths:\n",
        "            raise Exception(\"Failed to convert PDF to images\")\n",
        "\n",
        "        # Step 2: Process each page and combine results\n",
        "        combined_data = None\n",
        "        best_confidence = 0.0\n",
        "\n",
        "        for image_path in image_paths:\n",
        "            try:\n",
        "                # Extract data using hybrid approach\n",
        "                extraction_result = api_client.extract_comprehensive_data(image_path)\n",
        "\n",
        "                if extraction_result['combined_data']:\n",
        "                    confidence = extraction_result['confidence_score']\n",
        "\n",
        "                    if confidence > best_confidence:\n",
        "                        combined_data = extraction_result['combined_data']\n",
        "                        best_confidence = confidence\n",
        "\n",
        "                        logger.info(f\"Page processed with confidence: {confidence:.2f}\")\n",
        "\n",
        "            except Exception as e:\n",
        "                logger.warning(f\"Failed to process page {image_path}: {e}\")\n",
        "                continue\n",
        "\n",
        "        # Step 3: Validate and clean data\n",
        "        if combined_data:\n",
        "            # Set document ID from filename\n",
        "            combined_data['documentId'] = pdf_path.stem\n",
        "\n",
        "            # Clean and validate\n",
        "            cleaned_data = validator.clean_extracted_data(combined_data)\n",
        "\n",
        "            # Validate against schema\n",
        "            is_valid, validation_errors = validator.validate_json(cleaned_data)\n",
        "\n",
        "            if not is_valid:\n",
        "                logger.warning(f\"Validation errors for {pdf_path.name}: {validation_errors}\")\n",
        "\n",
        "            # Step 4: Save results\n",
        "            output_path = file_manager.save_json(cleaned_data, pdf_path.stem)\n",
        "\n",
        "            result.update({\n",
        "                'success': True,\n",
        "                'data': cleaned_data,\n",
        "                'confidence_score': best_confidence,\n",
        "                'output_path': output_path,\n",
        "                'validation_errors': validation_errors if not is_valid else None\n",
        "            })\n",
        "\n",
        "            logger.info(f\"Successfully processed: {pdf_path.name}\")\n",
        "\n",
        "        else:\n",
        "            raise Exception(\"No data extracted from any page\")\n",
        "\n",
        "        # Cleanup temporary files\n",
        "        for image_path in image_paths:\n",
        "            try:\n",
        "                os.remove(image_path)\n",
        "            except:\n",
        "                pass\n",
        "\n",
        "        try:\n",
        "            temp_dir.rmdir()\n",
        "        except:\n",
        "            pass\n",
        "\n",
        "    except Exception as e:\n",
        "        error_msg = str(e)\n",
        "        result['error'] = error_msg\n",
        "        logger.error(f\"Error processing {pdf_path.name}: {error_msg}\")\n",
        "\n",
        "    finally:\n",
        "        end_time = datetime.now()\n",
        "        result['processing_time'] = (end_time - start_time).total_seconds()\n",
        "\n",
        "    return result\n",
        "\n",
        "\n",
        "def process_batch(batch_files: list, batch_num: int) -> list:\n",
        "    \"\"\"\n",
        "    Process a batch of files with parallel processing\n",
        "    \"\"\"\n",
        "    logger.info(f\"Starting batch {batch_num} with {len(batch_files)} files\")\n",
        "\n",
        "    batch_results = []\n",
        "\n",
        "    with ThreadPoolExecutor(max_workers=config.MAX_WORKERS) as executor:\n",
        "        # Submit all files in batch\n",
        "        future_to_file = {executor.submit(process_single_pdf, file_path): file_path\n",
        "                         for file_path in batch_files}\n",
        "\n",
        "        # Process completed tasks\n",
        "        for future in as_completed(future_to_file):\n",
        "            file_path = future_to_file[future]\n",
        "            try:\n",
        "                result = future.result()\n",
        "                batch_results.append(result)\n",
        "\n",
        "                # Update progress\n",
        "                if result['success']:\n",
        "                    progress_tracker.mark_processed(file_path.stem)\n",
        "                else:\n",
        "                    progress_tracker.mark_failed(file_path.stem, result['error'])\n",
        "\n",
        "            except Exception as e:\n",
        "                logger.error(f\"Batch processing error for {file_path.name}: {e}\")\n",
        "                progress_tracker.mark_failed(file_path.stem, str(e))\n",
        "\n",
        "    logger.info(f\"Completed batch {batch_num}\")\n",
        "    return batch_results\n",
        "\n",
        "\n",
        "print(\"Processing functions defined\")\n"
      ],
      "metadata": {
        "id": "l7Acykt8q6Dh"
      },
      "execution_count": null,
      "outputs": []
    },
    {
      "cell_type": "markdown",
      "source": [
        "## 7. Test Processing (Single File)"
      ],
      "metadata": {
        "id": "KHQSu1B-q9a9"
      }
    },
    {
      "cell_type": "code",
      "source": [
        "# Test with a single file first\n",
        "if unprocessed_files:\n",
        "    print(\"Testing pipeline with single file...\")\n",
        "    test_file = unprocessed_files[0]\n",
        "\n",
        "    print(f\"Testing with: {test_file.name}\")\n",
        "\n",
        "    # Process single file\n",
        "    test_result = process_single_pdf(test_file)\n",
        "\n",
        "    print(f\"\\nTest Results:\")\n",
        "    print(f\"  Success: {test_result['success']}\")\n",
        "    print(f\"  Processing time: {test_result['processing_time']:.2f} seconds\")\n",
        "    print(f\"  Confidence score: {test_result['confidence_score']:.2f}\")\n",
        "\n",
        "    if test_result['success']:\n",
        "        print(f\"  Output saved to: {test_result['output_path']}\")\n",
        "\n",
        "        # Display sample extracted data\n",
        "        sample_data = test_result['data']\n",
        "        print(f\"\\nSample extracted data:\")\n",
        "        print(f\"  Document ID: {sample_data.get('documentId')}\")\n",
        "        print(f\"  Issuer: {sample_data.get('issuer')}\")\n",
        "        print(f\"  Customer: {sample_data.get('customerName')}\")\n",
        "        print(f\"  Statement Date: {sample_data.get('statementDate')}\")\n",
        "        print(f\"  Total Usage: {sample_data.get('totalUsage')}\")\n",
        "        print(f\"  Locations: {len(sample_data.get('locations', []))} found\")\n",
        "\n",
        "    else:\n",
        "        print(f\"  Error: {test_result['error']}\")\n",
        "\n",
        "    # Ask user if they want to continue\n",
        "    if test_result['success']:\n",
        "        continue_processing = input(\"\\nTest successful! Continue with full processing? (y/n): \")\n",
        "        if continue_processing.lower() != 'y':\n",
        "            print(\"Exiting pipeline.\")\n",
        "            sys.exit(0)\n",
        "else:\n",
        "    print(\"No unprocessed files available for testing.\")"
      ],
      "metadata": {
        "id": "BdJU5ZyTq_Mg"
      },
      "execution_count": null,
      "outputs": []
    },
    {
      "cell_type": "markdown",
      "source": [
        "## 8. Run Full Batch Processing"
      ],
      "metadata": {
        "id": "xcsLD_jKz7RG"
      }
    },
    {
      "cell_type": "code",
      "source": [
        "if unprocessed_files:\n",
        "    all_results = []\n",
        "    total_batches = len(batches)\n",
        "\n",
        "    for batch_num, batch_files in enumerate(batches, start=1):\n",
        "        print(f\"/nProcessing batch {batch_num}/{total_batches} ...\")\n",
        "        batch_results = process_batch(batch_files, batch_num)\n",
        "        all_results.extend(batch_results)\n",
        "\n",
        "        # Save intermediate progress after each batch\n",
        "        progress_tracker.save_progress()\n",
        "\n",
        "    print(\"\\nAll batches processed.\")\n",
        "else:\n",
        "    print(\"No files to process.\")"
      ],
      "metadata": {
        "id": "oGuynwg_z78e"
      },
      "execution_count": null,
      "outputs": []
    },
    {
      "cell_type": "markdown",
      "source": [
        "## 9. Summary and Logs"
      ],
      "metadata": {
        "id": "Moy4XRGY0CpL"
      }
    },
    {
      "cell_type": "code",
      "source": [
        "# Summarize results\n",
        "success_count = sum(r['success'] for r in all_results)\n",
        "fail_count = len(all_results) - success_count\n",
        "\n",
        "print(f\"\\nProcessing Summary:\")\n",
        "print(f\"  Total files processed: {len(all_results)}\")\n",
        "print(f\"  Successful: {success_count}\")\n",
        "print(f\"  Failed: {fail_count}\")\n",
        "\n",
        "if fail_count > 0:\n",
        "    print(\"\\nFailed files and errors:\")\n",
        "    for r in all_results:\n",
        "        if not r['success']:\n",
        "            print(f\" - {r['filename']}: {r['error']}\")"
      ],
      "metadata": {
        "id": "7s99tX0Z0DST"
      },
      "execution_count": null,
      "outputs": []
    }
  ]
}