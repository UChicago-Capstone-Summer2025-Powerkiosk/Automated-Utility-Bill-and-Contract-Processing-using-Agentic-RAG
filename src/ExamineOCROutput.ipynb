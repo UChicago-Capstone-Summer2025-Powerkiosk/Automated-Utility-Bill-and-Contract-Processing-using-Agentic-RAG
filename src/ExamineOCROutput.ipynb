{
 "cells": [
  {
   "cell_type": "markdown",
   "id": "73fd9cbc-c9d6-4033-a7f5-3bd3b76d72f5",
   "metadata": {},
   "source": [
    "Compare folders in /data/raw_data versus /data/ocr_results_outputs"
   ]
  },
  {
   "cell_type": "code",
   "execution_count": 2,
   "id": "61d3e9d9-c689-4bec-81c3-faeb4867de9a",
   "metadata": {
    "tags": []
   },
   "outputs": [],
   "source": [
    "import os"
   ]
  },
  {
   "cell_type": "code",
   "execution_count": 12,
   "id": "e3bbcde2-df7f-49eb-902c-38a037134b45",
   "metadata": {
    "tags": []
   },
   "outputs": [],
   "source": [
    "def list_pdf_files(directory_path):\n",
    "    pdf_files = [file for file in os.listdir(directory_path)\n",
    "                 if file.lower().endswith(\".pdf\") and os.path.isfile(os.path.join(directory_path, file))]\n",
    "    return pdf_files"
   ]
  },
  {
   "cell_type": "code",
   "execution_count": 20,
   "id": "524104fc-5c07-4211-9e36-df368f8e9a9b",
   "metadata": {
    "tags": []
   },
   "outputs": [
    {
     "data": {
      "text/plain": [
       "['document_459.pdf',\n",
       " 'document_317.pdf',\n",
       " 'document_471.pdf',\n",
       " 'document_465.pdf',\n",
       " 'document_303.pdf']"
      ]
     },
     "execution_count": 20,
     "metadata": {},
     "output_type": "execute_result"
    }
   ],
   "source": [
    "list_pdf_files(\"../data/raw_data/\")[:5]"
   ]
  },
  {
   "cell_type": "code",
   "execution_count": 4,
   "id": "a6df420d-b57f-4822-90b0-edf2339f3ada",
   "metadata": {
    "tags": []
   },
   "outputs": [],
   "source": [
    "def list_folders_in_directory(directory_path):\n",
    "    folders = [name for name in os.listdir(directory_path)\n",
    "               if os.path.isdir(os.path.join(directory_path, name))]\n",
    "    return folders"
   ]
  },
  {
   "cell_type": "code",
   "execution_count": 18,
   "id": "fd575808-7f9f-4f05-a370-fa8ef3beaf4f",
   "metadata": {
    "tags": []
   },
   "outputs": [
    {
     "data": {
      "text/plain": [
       "['document_1020',\n",
       " 'document_904',\n",
       " 'document_138',\n",
       " 'document_597',\n",
       " 'document_107']"
      ]
     },
     "execution_count": 18,
     "metadata": {},
     "output_type": "execute_result"
    }
   ],
   "source": [
    "list_folders_in_directory(\"../data/ocr_results_outputs//\")[:5]"
   ]
  },
  {
   "cell_type": "code",
   "execution_count": 22,
   "id": "19f4264e-c058-4a0f-99e4-cf36b757e6d5",
   "metadata": {
    "tags": []
   },
   "outputs": [],
   "source": [
    "def remove_extension(file_list):\n",
    "    return [os.path.splitext(file)[0] for file in file_list]"
   ]
  },
  {
   "cell_type": "code",
   "execution_count": 31,
   "id": "facd4a4b-ee2d-4471-afe2-064463414b9f",
   "metadata": {
    "tags": []
   },
   "outputs": [],
   "source": [
    "pdf_file_names = remove_extension(list_pdf_files(\"../data/raw_data/\"))\n",
    "\n",
    "folder_names = remove_extension(list_folders_in_directory(\"../data/ocr_results_outputs/\"))"
   ]
  },
  {
   "cell_type": "markdown",
   "id": "45a66b0d-8078-480b-946c-4e7ef5ebb1c2",
   "metadata": {},
   "source": [
    "Perform comparison"
   ]
  },
  {
   "cell_type": "code",
   "execution_count": 40,
   "id": "4d2abe78-cb21-49ea-9420-88fea933a7cb",
   "metadata": {
    "tags": []
   },
   "outputs": [
    {
     "name": "stdout",
     "output_type": "stream",
     "text": [
      "Original folder has 1170 .pdf files.\n",
      "Processed folder has 883 subfolders, each corresponding to the original file.\n"
     ]
    }
   ],
   "source": [
    "print(f'Original folder has {len(pdf_file_names)} .pdf files.')\n",
    "print(f'Processed folder has {len(folder_names)} subfolders, each corresponding to the original file.')"
   ]
  },
  {
   "cell_type": "markdown",
   "id": "be3bec04-3321-4e5f-817b-0421c75c5859",
   "metadata": {},
   "source": [
    "Since the two value does not match, it means there are some files which was in original .pdf file list but not in the ocr processed result."
   ]
  },
  {
   "cell_type": "markdown",
   "id": "0312cd94-7c1f-47a6-87d6-71d5931bff1d",
   "metadata": {},
   "source": [
    "Identify the mismatch files"
   ]
  },
  {
   "cell_type": "code",
   "execution_count": 44,
   "id": "d0113793-c5b3-4c31-a852-9d0769a6e420",
   "metadata": {
    "tags": []
   },
   "outputs": [
    {
     "data": {
      "text/plain": [
       "['document_833',\n",
       " 'document_1144',\n",
       " 'document_302',\n",
       " 'document_491',\n",
       " 'document_1115']"
      ]
     },
     "execution_count": 44,
     "metadata": {},
     "output_type": "execute_result"
    }
   ],
   "source": [
    "mismatch_files = list(set(pdf_file_names) - set(folder_names))\n",
    "mismatch_files[:5]"
   ]
  },
  {
   "cell_type": "markdown",
   "id": "6688a2ca-b577-4804-8e5c-1a926331247d",
   "metadata": {},
   "source": [
    "Sanity check"
   ]
  },
  {
   "cell_type": "code",
   "execution_count": 47,
   "id": "3a775c5e-6a33-4b2f-a4c3-8b0580006164",
   "metadata": {
    "tags": []
   },
   "outputs": [],
   "source": [
    "assert len(mismatch_files) == (len(pdf_file_names) - len(folder_names))"
   ]
  },
  {
   "cell_type": "markdown",
   "id": "85f54a66-7f5f-4351-8a31-e94fedee81a5",
   "metadata": {},
   "source": [
    "----"
   ]
  },
  {
   "cell_type": "markdown",
   "id": "12deb8c1-4837-4b07-bb4f-91168864589b",
   "metadata": {},
   "source": [
    "Examine folder structure of each generated OCR folder which contain `.pdf` (original source), `.md` (parsed text file), `images` folder which contain images from original source."
   ]
  },
  {
   "cell_type": "markdown",
   "id": "3e58d7ff-5596-4437-9786-1e57475a99ec",
   "metadata": {},
   "source": [
    "Count number of `.jpeg` files in each folder"
   ]
  },
  {
   "cell_type": "code",
   "execution_count": 54,
   "id": "ae1ca9d9-ec2d-4ac2-9a79-6d2aca7df4cf",
   "metadata": {
    "tags": []
   },
   "outputs": [],
   "source": [
    "def count_jpeg_in_image_folder(folder_path):\n",
    "    image_folder = os.path.join(folder_path, \"images\")\n",
    "    if not os.path.isdir(image_folder):\n",
    "        return 0\n",
    "    return len([f for f in os.listdir(image_folder)\n",
    "                if f.lower().endswith(\".jpeg\") and os.path.isfile(os.path.join(image_folder, f))])"
   ]
  },
  {
   "cell_type": "code",
   "execution_count": 58,
   "id": "25bdd0ad-6121-46f0-af70-d7dfe3617adf",
   "metadata": {
    "tags": []
   },
   "outputs": [
    {
     "data": {
      "text/plain": [
       "12"
      ]
     },
     "execution_count": 58,
     "metadata": {},
     "output_type": "execute_result"
    }
   ],
   "source": [
    "count_jpeg_in_image_folder(\"../data/ocr_results_outputs/document_13/\")"
   ]
  },
  {
   "cell_type": "code",
   "execution_count": 64,
   "id": "e4260c99-cc10-4dcc-9f6c-20942f38fe18",
   "metadata": {
    "tags": []
   },
   "outputs": [],
   "source": [
    "base_dir = \"../data/ocr_results_outputs\""
   ]
  },
  {
   "cell_type": "markdown",
   "id": "120d5967-97d5-4d23-bb6a-90e577731443",
   "metadata": {},
   "source": [
    "Examine file size for `.md`"
   ]
  },
  {
   "cell_type": "code",
   "execution_count": 71,
   "id": "08647e73-339c-4cc9-ae6b-fda2c2dc2b93",
   "metadata": {
    "tags": []
   },
   "outputs": [],
   "source": [
    "def get_md_file_size(folder_name):\n",
    "    file_size_byte = 0\n",
    "    if not os.path.exists(f'{base_dir}/{folder_name}/{folder_name}.md'):\n",
    "        return file_size_byte\n",
    "    file_size_kb = os.path.getsize(f'{base_dir}/{folder_name}/{folder_name}.md') / 1024\n",
    "    return file_size_kb"
   ]
  },
  {
   "cell_type": "code",
   "execution_count": 73,
   "id": "fadbfe16-5fc0-494e-8c43-1ecf2ee2c3d0",
   "metadata": {
    "tags": []
   },
   "outputs": [
    {
     "data": {
      "text/plain": [
       "43.330078125"
      ]
     },
     "execution_count": 73,
     "metadata": {},
     "output_type": "execute_result"
    }
   ],
   "source": [
    "get_md_file_size(\"document_13\")"
   ]
  },
  {
   "cell_type": "markdown",
   "id": "ea7e0922-2277-46c1-af19-98451dd63528",
   "metadata": {},
   "source": [
    "Examine file size for `.pdf`"
   ]
  },
  {
   "cell_type": "code",
   "execution_count": 75,
   "id": "64c8f7be-0ed5-4efb-bf9a-0c9271dbe7fc",
   "metadata": {
    "tags": []
   },
   "outputs": [],
   "source": [
    "def get_pdf_file_size(folder_name):\n",
    "    file_size_byte = 0\n",
    "    if not os.path.exists(f'{base_dir}/{folder_name}/{folder_name}.pdf'):\n",
    "        return file_size_byte\n",
    "    file_size_kb = os.path.getsize(f'{base_dir}/{folder_name}/{folder_name}.pdf') / 1024\n",
    "    return file_size_kb"
   ]
  },
  {
   "cell_type": "code",
   "execution_count": 80,
   "id": "83fcf339-bdb2-45b0-ad49-fc6043c745d1",
   "metadata": {
    "tags": []
   },
   "outputs": [
    {
     "data": {
      "text/plain": [
       "95.49609375"
      ]
     },
     "execution_count": 80,
     "metadata": {},
     "output_type": "execute_result"
    }
   ],
   "source": [
    "get_pdf_file_size(\"document_1020\")"
   ]
  }
 ],
 "metadata": {
  "kernelspec": {
   "display_name": "Python 3 (ipykernel)",
   "language": "python",
   "name": "python3"
  },
  "language_info": {
   "codemirror_mode": {
    "name": "ipython",
    "version": 3
   },
   "file_extension": ".py",
   "mimetype": "text/x-python",
   "name": "python",
   "nbconvert_exporter": "python",
   "pygments_lexer": "ipython3",
   "version": "3.11.7"
  }
 },
 "nbformat": 4,
 "nbformat_minor": 5
}
