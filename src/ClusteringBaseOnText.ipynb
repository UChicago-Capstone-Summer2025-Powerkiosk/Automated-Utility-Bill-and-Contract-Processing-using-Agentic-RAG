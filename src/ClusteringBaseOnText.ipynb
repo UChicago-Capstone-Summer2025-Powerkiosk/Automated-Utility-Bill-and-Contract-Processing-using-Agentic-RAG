{
 "cells": [
  {
   "cell_type": "markdown",
   "id": "ad84e8cd-fa43-420e-bcd1-bc7b913a0ae6",
   "metadata": {},
   "source": [
    "# Clustering on pdf using text"
   ]
  },
  {
   "cell_type": "code",
   "execution_count": 3,
   "id": "edd19ee9-de02-4783-8b7d-b28d9e1c4ee2",
   "metadata": {
    "tags": []
   },
   "outputs": [
    {
     "name": "stdout",
     "output_type": "stream",
     "text": [
      "Collecting pdfplumber\n",
      "  Downloading pdfplumber-0.11.7-py3-none-any.whl.metadata (42 kB)\n",
      "Collecting pdfminer.six==20250506 (from pdfplumber)\n",
      "  Downloading pdfminer_six-20250506-py3-none-any.whl.metadata (4.2 kB)\n",
      "Requirement already satisfied: Pillow>=9.1 in /opt/anaconda3/lib/python3.11/site-packages (from pdfplumber) (10.4.0)\n",
      "Collecting pypdfium2>=4.18.0 (from pdfplumber)\n",
      "  Downloading pypdfium2-4.30.0-py3-none-macosx_11_0_arm64.whl.metadata (48 kB)\n",
      "Requirement already satisfied: charset-normalizer>=2.0.0 in /opt/anaconda3/lib/python3.11/site-packages (from pdfminer.six==20250506->pdfplumber) (3.4.2)\n",
      "Requirement already satisfied: cryptography>=36.0.0 in /opt/anaconda3/lib/python3.11/site-packages (from pdfminer.six==20250506->pdfplumber) (42.0.2)\n",
      "Requirement already satisfied: cffi>=1.12 in /opt/anaconda3/lib/python3.11/site-packages (from cryptography>=36.0.0->pdfminer.six==20250506->pdfplumber) (1.16.0)\n",
      "Requirement already satisfied: pycparser in /opt/anaconda3/lib/python3.11/site-packages (from cffi>=1.12->cryptography>=36.0.0->pdfminer.six==20250506->pdfplumber) (2.21)\n",
      "Downloading pdfplumber-0.11.7-py3-none-any.whl (60 kB)\n",
      "Downloading pdfminer_six-20250506-py3-none-any.whl (5.6 MB)\n",
      "\u001b[2K   \u001b[90m━━━━━━━━━━━━━━━━━━━━━━━━━━━━━━━━━━━━━━━━\u001b[0m \u001b[32m5.6/5.6 MB\u001b[0m \u001b[31m45.7 MB/s\u001b[0m eta \u001b[36m0:00:00\u001b[0m\n",
      "\u001b[?25hDownloading pypdfium2-4.30.0-py3-none-macosx_11_0_arm64.whl (2.7 MB)\n",
      "\u001b[2K   \u001b[90m━━━━━━━━━━━━━━━━━━━━━━━━━━━━━━━━━━━━━━━━\u001b[0m \u001b[32m2.7/2.7 MB\u001b[0m \u001b[31m69.5 MB/s\u001b[0m eta \u001b[36m0:00:00\u001b[0m\n",
      "\u001b[?25hInstalling collected packages: pypdfium2, pdfminer.six, pdfplumber\n",
      "\u001b[2K   \u001b[90m━━━━━━━━━━━━━━━━━━━━━━━━━━━━━━━━━━━━━━━━\u001b[0m \u001b[32m3/3\u001b[0m [pdfplumber]3\u001b[0m [pdfminer.six]\n",
      "\u001b[1A\u001b[2KSuccessfully installed pdfminer.six-20250506 pdfplumber-0.11.7 pypdfium2-4.30.0\n",
      "Note: you may need to restart the kernel to use updated packages.\n"
     ]
    }
   ],
   "source": [
    "pip install pdfplumber"
   ]
  },
  {
   "cell_type": "code",
   "execution_count": 5,
   "id": "0392d3c8-6513-490c-ab0d-ca089ef92278",
   "metadata": {
    "tags": []
   },
   "outputs": [],
   "source": [
    "# 🧱 Step 1: Install required packages\n",
    "!pip install -q PyMuPDF hdbscan sentence-transformers scikit-learn pandas matplotlib"
   ]
  },
  {
   "cell_type": "code",
   "execution_count": 13,
   "id": "9dc7f780-241b-403f-b05c-4124b7d3e113",
   "metadata": {
    "tags": []
   },
   "outputs": [
    {
     "name": "stdout",
     "output_type": "stream",
     "text": [
      "⚠️ Skipping document_868.pdf: No /Root object! - Is this really a PDF?\n",
      "⚠️ Skipping document_897.pdf: No /Root object! - Is this really a PDF?\n",
      "⚠️ Skipping document_883.pdf: No /Root object! - Is this really a PDF?\n",
      "⚠️ Skipping document_869.pdf: No /Root object! - Is this really a PDF?\n",
      "⚠️ Skipping document_1110.pdf: No /Root object! - Is this really a PDF?\n",
      "⚠️ Skipping document_880.pdf: No /Root object! - Is this really a PDF?\n",
      "⚠️ Skipping document_894.pdf: No /Root object! - Is this really a PDF?\n",
      "⚠️ Skipping document_705.pdf: No /Root object! - Is this really a PDF?\n",
      "⚠️ Skipping document_739.pdf: No /Root object! - Is this really a PDF?\n",
      "⚠️ Skipping document_922.pdf: No /Root object! - Is this really a PDF?\n",
      "⚠️ Skipping document_895.pdf: No /Root object! - Is this really a PDF?\n",
      "⚠️ Skipping document_881.pdf: No /Root object! - Is this really a PDF?\n",
      "⚠️ Skipping document_885.pdf: No /Root object! - Is this really a PDF?\n",
      "⚠️ Skipping document_891.pdf: No /Root object! - Is this really a PDF?\n"
     ]
    },
    {
     "name": "stderr",
     "output_type": "stream",
     "text": [
      "Could get FontBBox from font descriptor because None cannot be parsed as 4 floats\n"
     ]
    },
    {
     "name": "stdout",
     "output_type": "stream",
     "text": [
      "⚠️ Skipping document_884.pdf: No /Root object! - Is this really a PDF?\n",
      "⚠️ Skipping document_106.pdf: No /Root object! - Is this really a PDF?\n",
      "⚠️ Skipping document_462.pdf: No /Root object! - Is this really a PDF?\n",
      "⚠️ Skipping document_460.pdf: No /Root object! - Is this really a PDF?\n",
      "⚠️ Skipping document_879.pdf: No /Root object! - Is this really a PDF?\n",
      "⚠️ Skipping document_893.pdf: No /Root object! - Is this really a PDF?\n",
      "⚠️ Skipping document_1115.pdf: No /Root object! - Is this really a PDF?\n"
     ]
    },
    {
     "name": "stderr",
     "output_type": "stream",
     "text": [
      "Could get FontBBox from font descriptor because None cannot be parsed as 4 floats\n",
      "Could get FontBBox from font descriptor because None cannot be parsed as 4 floats\n",
      "Could get FontBBox from font descriptor because None cannot be parsed as 4 floats\n",
      "Could get FontBBox from font descriptor because None cannot be parsed as 4 floats\n",
      "Could get FontBBox from font descriptor because None cannot be parsed as 4 floats\n",
      "Could get FontBBox from font descriptor because None cannot be parsed as 4 floats\n",
      "Could get FontBBox from font descriptor because None cannot be parsed as 4 floats\n",
      "Could get FontBBox from font descriptor because None cannot be parsed as 4 floats\n",
      "Cannot set gray non-stroke color because /'R21' is an invalid float value\n",
      "Cannot set gray non-stroke color because /'R21' is an invalid float value\n",
      "Cannot set gray non-stroke color because /'R21' is an invalid float value\n",
      "Cannot set gray non-stroke color because /'R21' is an invalid float value\n",
      "Cannot set gray non-stroke color because /'R21' is an invalid float value\n",
      "Cannot set gray non-stroke color because /'R21' is an invalid float value\n",
      "Cannot set gray non-stroke color because /'R21' is an invalid float value\n",
      "Cannot set gray non-stroke color because /'R21' is an invalid float value\n",
      "Cannot set gray non-stroke color because /'R21' is an invalid float value\n",
      "Cannot set gray non-stroke color because /'R21' is an invalid float value\n",
      "Cannot set gray non-stroke color because /'R21' is an invalid float value\n",
      "Cannot set gray non-stroke color because /'R21' is an invalid float value\n",
      "Cannot set gray non-stroke color because /'R21' is an invalid float value\n",
      "Cannot set gray non-stroke color because /'R21' is an invalid float value\n",
      "Cannot set gray non-stroke color because /'R21' is an invalid float value\n",
      "Cannot set gray non-stroke color because /'R21' is an invalid float value\n",
      "Cannot set gray non-stroke color because /'R21' is an invalid float value\n",
      "Cannot set gray non-stroke color because /'R21' is an invalid float value\n",
      "Could get FontBBox from font descriptor because None cannot be parsed as 4 floats\n",
      "Could get FontBBox from font descriptor because None cannot be parsed as 4 floats\n",
      "Could get FontBBox from font descriptor because None cannot be parsed as 4 floats\n",
      "Could get FontBBox from font descriptor because None cannot be parsed as 4 floats\n",
      "Could get FontBBox from font descriptor because None cannot be parsed as 4 floats\n",
      "Could get FontBBox from font descriptor because None cannot be parsed as 4 floats\n",
      "Could get FontBBox from font descriptor because None cannot be parsed as 4 floats\n",
      "Could get FontBBox from font descriptor because None cannot be parsed as 4 floats\n",
      "Cannot set gray non-stroke color because /'R21' is an invalid float value\n",
      "Cannot set gray non-stroke color because /'R21' is an invalid float value\n",
      "Cannot set gray non-stroke color because /'R21' is an invalid float value\n",
      "Cannot set gray non-stroke color because /'R21' is an invalid float value\n",
      "Cannot set gray non-stroke color because /'R21' is an invalid float value\n",
      "Cannot set gray non-stroke color because /'R21' is an invalid float value\n",
      "Cannot set gray non-stroke color because /'R21' is an invalid float value\n",
      "Cannot set gray non-stroke color because /'R21' is an invalid float value\n",
      "Cannot set gray non-stroke color because /'R21' is an invalid float value\n",
      "Cannot set gray non-stroke color because /'R21' is an invalid float value\n",
      "Cannot set gray non-stroke color because /'R21' is an invalid float value\n",
      "Cannot set gray non-stroke color because /'R21' is an invalid float value\n",
      "Cannot set gray non-stroke color because /'R21' is an invalid float value\n",
      "Cannot set gray non-stroke color because /'R21' is an invalid float value\n",
      "Cannot set gray non-stroke color because /'R21' is an invalid float value\n",
      "Cannot set gray non-stroke color because /'R21' is an invalid float value\n",
      "Cannot set gray non-stroke color because /'R21' is an invalid float value\n",
      "Cannot set gray non-stroke color because /'R21' is an invalid float value\n",
      "Could get FontBBox from font descriptor because None cannot be parsed as 4 floats\n",
      "Could get FontBBox from font descriptor because None cannot be parsed as 4 floats\n",
      "Could get FontBBox from font descriptor because None cannot be parsed as 4 floats\n",
      "Could get FontBBox from font descriptor because None cannot be parsed as 4 floats\n",
      "Could get FontBBox from font descriptor because None cannot be parsed as 4 floats\n",
      "Could get FontBBox from font descriptor because None cannot be parsed as 4 floats\n",
      "Could get FontBBox from font descriptor because None cannot be parsed as 4 floats\n",
      "Could get FontBBox from font descriptor because None cannot be parsed as 4 floats\n",
      "Could get FontBBox from font descriptor because None cannot be parsed as 4 floats\n",
      "Could get FontBBox from font descriptor because None cannot be parsed as 4 floats\n",
      "Could get FontBBox from font descriptor because None cannot be parsed as 4 floats\n",
      "Could get FontBBox from font descriptor because None cannot be parsed as 4 floats\n",
      "Could get FontBBox from font descriptor because None cannot be parsed as 4 floats\n",
      "Cannot set gray non-stroke color because /'R21' is an invalid float value\n",
      "Cannot set gray non-stroke color because /'R21' is an invalid float value\n",
      "Cannot set gray non-stroke color because /'R21' is an invalid float value\n",
      "Cannot set gray non-stroke color because /'R21' is an invalid float value\n",
      "Cannot set gray non-stroke color because /'R21' is an invalid float value\n",
      "Cannot set gray non-stroke color because /'R21' is an invalid float value\n",
      "Cannot set gray non-stroke color because /'R21' is an invalid float value\n",
      "Cannot set gray non-stroke color because /'R21' is an invalid float value\n",
      "Cannot set gray non-stroke color because /'R21' is an invalid float value\n",
      "Cannot set gray non-stroke color because /'R21' is an invalid float value\n",
      "Cannot set gray non-stroke color because /'R21' is an invalid float value\n",
      "Cannot set gray non-stroke color because /'R21' is an invalid float value\n",
      "Cannot set gray non-stroke color because /'R21' is an invalid float value\n",
      "Cannot set gray non-stroke color because /'R21' is an invalid float value\n",
      "Cannot set gray non-stroke color because /'R21' is an invalid float value\n",
      "Cannot set gray non-stroke color because /'R21' is an invalid float value\n",
      "Cannot set gray non-stroke color because /'R21' is an invalid float value\n",
      "Cannot set gray non-stroke color because /'R21' is an invalid float value\n",
      "Could get FontBBox from font descriptor because None cannot be parsed as 4 floats\n"
     ]
    },
    {
     "name": "stdout",
     "output_type": "stream",
     "text": [
      "⚠️ Skipping document_749.pdf: No /Root object! - Is this really a PDF?\n"
     ]
    },
    {
     "name": "stderr",
     "output_type": "stream",
     "text": [
      "Could get FontBBox from font descriptor because None cannot be parsed as 4 floats\n",
      "Could get FontBBox from font descriptor because None cannot be parsed as 4 floats\n",
      "Could get FontBBox from font descriptor because None cannot be parsed as 4 floats\n",
      "Could get FontBBox from font descriptor because None cannot be parsed as 4 floats\n",
      "Cannot set gray non-stroke color because /'R21' is an invalid float value\n",
      "Cannot set gray non-stroke color because /'R21' is an invalid float value\n",
      "Cannot set gray non-stroke color because /'R21' is an invalid float value\n",
      "Cannot set gray non-stroke color because /'R21' is an invalid float value\n",
      "Cannot set gray non-stroke color because /'R21' is an invalid float value\n",
      "Cannot set gray non-stroke color because /'R21' is an invalid float value\n",
      "Cannot set gray non-stroke color because /'R21' is an invalid float value\n",
      "Cannot set gray non-stroke color because /'R21' is an invalid float value\n",
      "Cannot set gray non-stroke color because /'R21' is an invalid float value\n",
      "Cannot set gray non-stroke color because /'R21' is an invalid float value\n",
      "Cannot set gray non-stroke color because /'R21' is an invalid float value\n",
      "Cannot set gray non-stroke color because /'R21' is an invalid float value\n",
      "Cannot set gray non-stroke color because /'R21' is an invalid float value\n",
      "Cannot set gray non-stroke color because /'R21' is an invalid float value\n",
      "Cannot set gray non-stroke color because /'R21' is an invalid float value\n",
      "Cannot set gray non-stroke color because /'R21' is an invalid float value\n",
      "Cannot set gray non-stroke color because /'R21' is an invalid float value\n",
      "Cannot set gray non-stroke color because /'R21' is an invalid float value\n",
      "Could get FontBBox from font descriptor because None cannot be parsed as 4 floats\n",
      "Could get FontBBox from font descriptor because None cannot be parsed as 4 floats\n",
      "Could get FontBBox from font descriptor because None cannot be parsed as 4 floats\n",
      "Could get FontBBox from font descriptor because None cannot be parsed as 4 floats\n",
      "Could get FontBBox from font descriptor because None cannot be parsed as 4 floats\n"
     ]
    },
    {
     "name": "stdout",
     "output_type": "stream",
     "text": [
      "⚠️ Skipping document_748.pdf: No /Root object! - Is this really a PDF?\n",
      "⚠️ Skipping document_619.pdf: No /Root object! - Is this really a PDF?\n",
      "⚠️ Skipping document_745.pdf: No /Root object! - Is this really a PDF?\n"
     ]
    },
    {
     "name": "stderr",
     "output_type": "stream",
     "text": [
      "Cannot set gray non-stroke color because /'R21' is an invalid float value\n",
      "Cannot set gray non-stroke color because /'R21' is an invalid float value\n",
      "Cannot set gray non-stroke color because /'R21' is an invalid float value\n",
      "Cannot set gray non-stroke color because /'R21' is an invalid float value\n",
      "Cannot set gray non-stroke color because /'R21' is an invalid float value\n",
      "Cannot set gray non-stroke color because /'R21' is an invalid float value\n",
      "Cannot set gray non-stroke color because /'R21' is an invalid float value\n",
      "Cannot set gray non-stroke color because /'R21' is an invalid float value\n",
      "Cannot set gray non-stroke color because /'R21' is an invalid float value\n",
      "Cannot set gray non-stroke color because /'R21' is an invalid float value\n",
      "Cannot set gray non-stroke color because /'R21' is an invalid float value\n",
      "Cannot set gray non-stroke color because /'R21' is an invalid float value\n",
      "Cannot set gray non-stroke color because /'R21' is an invalid float value\n",
      "Cannot set gray non-stroke color because /'R21' is an invalid float value\n",
      "Cannot set gray non-stroke color because /'R21' is an invalid float value\n",
      "Cannot set gray non-stroke color because /'R21' is an invalid float value\n",
      "Cannot set gray non-stroke color because /'R21' is an invalid float value\n",
      "Cannot set gray non-stroke color because /'R21' is an invalid float value\n"
     ]
    },
    {
     "name": "stdout",
     "output_type": "stream",
     "text": [
      "⚠️ Skipping document_744.pdf: No /Root object! - Is this really a PDF?\n"
     ]
    },
    {
     "name": "stderr",
     "output_type": "stream",
     "text": [
      "Cannot set gray non-stroke color because /'R21' is an invalid float value\n",
      "Cannot set gray non-stroke color because /'R21' is an invalid float value\n",
      "Cannot set gray non-stroke color because /'R21' is an invalid float value\n"
     ]
    },
    {
     "name": "stdout",
     "output_type": "stream",
     "text": [
      "⚠️ Skipping document_618.pdf: No /Root object! - Is this really a PDF?\n"
     ]
    },
    {
     "name": "stderr",
     "output_type": "stream",
     "text": [
      "Could get FontBBox from font descriptor because None cannot be parsed as 4 floats\n"
     ]
    },
    {
     "name": "stdout",
     "output_type": "stream",
     "text": [
      "⚠️ Skipping document_746.pdf: No /Root object! - Is this really a PDF?\n"
     ]
    },
    {
     "name": "stderr",
     "output_type": "stream",
     "text": [
      "Could get FontBBox from font descriptor because None cannot be parsed as 4 floats\n"
     ]
    },
    {
     "name": "stdout",
     "output_type": "stream",
     "text": [
      "⚠️ Skipping document_747.pdf: No /Root object! - Is this really a PDF?\n",
      "⚠️ Skipping document_948.pdf: No /Root object! - Is this really a PDF?\n",
      "⚠️ Skipping document_186.pdf: Unexpected EOF\n",
      "⚠️ Skipping document_623.pdf: No /Root object! - Is this really a PDF?\n"
     ]
    },
    {
     "name": "stderr",
     "output_type": "stream",
     "text": [
      "Could get FontBBox from font descriptor because None cannot be parsed as 4 floats\n",
      "Could get FontBBox from font descriptor because None cannot be parsed as 4 floats\n",
      "Could get FontBBox from font descriptor because None cannot be parsed as 4 floats\n",
      "Could get FontBBox from font descriptor because None cannot be parsed as 4 floats\n",
      "Could get FontBBox from font descriptor because None cannot be parsed as 4 floats\n",
      "Could get FontBBox from font descriptor because None cannot be parsed as 4 floats\n",
      "Could get FontBBox from font descriptor because None cannot be parsed as 4 floats\n",
      "Could get FontBBox from font descriptor because None cannot be parsed as 4 floats\n",
      "Cannot set gray non-stroke color because /'R21' is an invalid float value\n",
      "Cannot set gray non-stroke color because /'R21' is an invalid float value\n",
      "Cannot set gray non-stroke color because /'R21' is an invalid float value\n"
     ]
    },
    {
     "name": "stdout",
     "output_type": "stream",
     "text": [
      "⚠️ Skipping document_740.pdf: No /Root object! - Is this really a PDF?\n",
      "⚠️ Skipping document_741.pdf: No /Root object! - Is this really a PDF?\n",
      "⚠️ Skipping document_691.pdf: No /Root object! - Is this really a PDF?\n",
      "⚠️ Skipping document_901.pdf: No /Root object! - Is this really a PDF?\n",
      "⚠️ Skipping document_1078.pdf: No /Root object! - Is this really a PDF?\n"
     ]
    },
    {
     "name": "stderr",
     "output_type": "stream",
     "text": [
      "Could get FontBBox from font descriptor because None cannot be parsed as 4 floats\n"
     ]
    },
    {
     "name": "stdout",
     "output_type": "stream",
     "text": [
      "⚠️ Skipping document_33.pdf: Unexpected EOF\n"
     ]
    },
    {
     "name": "stderr",
     "output_type": "stream",
     "text": [
      "Could get FontBBox from font descriptor because None cannot be parsed as 4 floats\n",
      "Could get FontBBox from font descriptor because None cannot be parsed as 4 floats\n",
      "Could get FontBBox from font descriptor because None cannot be parsed as 4 floats\n",
      "Could get FontBBox from font descriptor because None cannot be parsed as 4 floats\n",
      "Could get FontBBox from font descriptor because None cannot be parsed as 4 floats\n",
      "Could get FontBBox from font descriptor because None cannot be parsed as 4 floats\n",
      "Could get FontBBox from font descriptor because None cannot be parsed as 4 floats\n",
      "Could get FontBBox from font descriptor because None cannot be parsed as 4 floats\n",
      "Could get FontBBox from font descriptor because None cannot be parsed as 4 floats\n",
      "Could get FontBBox from font descriptor because None cannot be parsed as 4 floats\n",
      "Could get FontBBox from font descriptor because None cannot be parsed as 4 floats\n",
      "Could get FontBBox from font descriptor because None cannot be parsed as 4 floats\n",
      "Could get FontBBox from font descriptor because None cannot be parsed as 4 floats\n",
      "Could get FontBBox from font descriptor because None cannot be parsed as 4 floats\n",
      "Could get FontBBox from font descriptor because None cannot be parsed as 4 floats\n",
      "Could get FontBBox from font descriptor because None cannot be parsed as 4 floats\n",
      "Could get FontBBox from font descriptor because None cannot be parsed as 4 floats\n",
      "Could get FontBBox from font descriptor because None cannot be parsed as 4 floats\n"
     ]
    },
    {
     "name": "stdout",
     "output_type": "stream",
     "text": [
      "⚠️ Skipping document_32.pdf: No /Root object! - Is this really a PDF?\n",
      "⚠️ Skipping document_690.pdf: No /Root object! - Is this really a PDF?\n",
      "⚠️ Skipping document_874.pdf: No /Root object! - Is this really a PDF?\n",
      "⚠️ Skipping document_876.pdf: No /Root object! - Is this really a PDF?\n",
      "⚠️ Skipping document_692.pdf: No /Root object! - Is this really a PDF?\n",
      "⚠️ Skipping document_889.pdf: No /Root object! - Is this really a PDF?\n",
      "⚠️ Skipping document_902.pdf: No /Root object! - Is this really a PDF?\n",
      "⚠️ Skipping document_31.pdf: Unexpected EOF\n",
      "⚠️ Skipping document_903.pdf: No /Root object! - Is this really a PDF?\n",
      "⚠️ Skipping document_693.pdf: No /Root object! - Is this really a PDF?\n",
      "⚠️ Skipping document_877.pdf: No /Root object! - Is this really a PDF?\n"
     ]
    },
    {
     "name": "stderr",
     "output_type": "stream",
     "text": [
      "Could get FontBBox from font descriptor because None cannot be parsed as 4 floats\n",
      "Could get FontBBox from font descriptor because None cannot be parsed as 4 floats\n",
      "Could get FontBBox from font descriptor because None cannot be parsed as 4 floats\n",
      "Could get FontBBox from font descriptor because None cannot be parsed as 4 floats\n",
      "Could get FontBBox from font descriptor because None cannot be parsed as 4 floats\n",
      "Could get FontBBox from font descriptor because None cannot be parsed as 4 floats\n",
      "Could get FontBBox from font descriptor because None cannot be parsed as 4 floats\n",
      "Could get FontBBox from font descriptor because None cannot be parsed as 4 floats\n",
      "Could get FontBBox from font descriptor because None cannot be parsed as 4 floats\n",
      "Could get FontBBox from font descriptor because None cannot be parsed as 4 floats\n",
      "Could get FontBBox from font descriptor because None cannot be parsed as 4 floats\n"
     ]
    },
    {
     "name": "stdout",
     "output_type": "stream",
     "text": [
      "⚠️ Skipping document_694.pdf: No /Root object! - Is this really a PDF?\n",
      "⚠️ Skipping document_1109.pdf: No /Root object! - Is this really a PDF?\n",
      "⚠️ Skipping document_737.pdf: No /Root object! - Is this really a PDF?\n"
     ]
    },
    {
     "name": "stderr",
     "output_type": "stream",
     "text": [
      "Could get FontBBox from font descriptor because None cannot be parsed as 4 floats\n",
      "Could get FontBBox from font descriptor because None cannot be parsed as 4 floats\n",
      "Could get FontBBox from font descriptor because None cannot be parsed as 4 floats\n",
      "Could get FontBBox from font descriptor because None cannot be parsed as 4 floats\n",
      "Could get FontBBox from font descriptor because None cannot be parsed as 4 floats\n",
      "Could get FontBBox from font descriptor because None cannot be parsed as 4 floats\n",
      "Could get FontBBox from font descriptor because None cannot be parsed as 4 floats\n",
      "Could get FontBBox from font descriptor because None cannot be parsed as 4 floats\n",
      "Could get FontBBox from font descriptor because None cannot be parsed as 4 floats\n",
      "Could get FontBBox from font descriptor because None cannot be parsed as 4 floats\n",
      "Could get FontBBox from font descriptor because None cannot be parsed as 4 floats\n",
      "Could get FontBBox from font descriptor because None cannot be parsed as 4 floats\n",
      "Could get FontBBox from font descriptor because None cannot be parsed as 4 floats\n",
      "Could get FontBBox from font descriptor because None cannot be parsed as 4 floats\n",
      "Could get FontBBox from font descriptor because None cannot be parsed as 4 floats\n"
     ]
    },
    {
     "name": "stdout",
     "output_type": "stream",
     "text": [
      "⚠️ Skipping document_865.pdf: No /Root object! - Is this really a PDF?\n",
      "Extracted 1117 PDFs.\n",
      "Sample file: document_459.pdf\n",
      "\n"
     ]
    }
   ],
   "source": [
    "import os\n",
    "import pdfplumber\n",
    "\n",
    "def extract_texts_from_pdfs(folder_path):\n",
    "    texts = []\n",
    "    filenames = []\n",
    "    \n",
    "    for file in os.listdir(folder_path):\n",
    "        if file.lower().endswith(\".pdf\"):\n",
    "            file_path = os.path.join(folder_path, file)\n",
    "            try:\n",
    "                with pdfplumber.open(file_path) as pdf:\n",
    "                    text = \"\"\n",
    "                    for page in pdf.pages:\n",
    "                        page_text = page.extract_text()\n",
    "                        if page_text:\n",
    "                            text += page_text + \"\\n\"\n",
    "                texts.append(text)\n",
    "                filenames.append(file)\n",
    "            except Exception as e:\n",
    "                print(f\"⚠️ Skipping {file}: {e}\")\n",
    "    \n",
    "    return texts, filenames\n",
    "\n",
    "folder_path =  \"../data/raw_data\"\n",
    "texts, filenames = extract_texts_from_pdfs(folder_path)\n",
    "\n",
    "print(f\"Extracted {len(texts)} PDFs.\")\n",
    "print(f\"Sample file: {filenames[0]}\")\n",
    "print(texts[0][:500])  # First 500 characters of first PDF"
   ]
  },
  {
   "cell_type": "code",
   "execution_count": 15,
   "id": "1a40e2df-39b3-4fbf-9dc3-fb22223030f6",
   "metadata": {
    "tags": []
   },
   "outputs": [
    {
     "data": {
      "application/vnd.jupyter.widget-view+json": {
       "model_id": "ed59c12cfec0400098cf105b577770fa",
       "version_major": 2,
       "version_minor": 0
      },
      "text/plain": [
       "Batches:   0%|          | 0/35 [00:00<?, ?it/s]"
      ]
     },
     "metadata": {},
     "output_type": "display_data"
    }
   ],
   "source": [
    "# 🧠 Step 3: Generate semantic embeddings\n",
    "from sentence_transformers import SentenceTransformer\n",
    "\n",
    "model = SentenceTransformer(\"all-MiniLM-L6-v2\")\n",
    "embeddings = model.encode(texts, show_progress_bar=True)"
   ]
  },
  {
   "cell_type": "code",
   "execution_count": 17,
   "id": "220dba56-0c68-4f7c-92cb-0b3d1ca5615c",
   "metadata": {
    "tags": []
   },
   "outputs": [
    {
     "name": "stderr",
     "output_type": "stream",
     "text": [
      "/opt/anaconda3/lib/python3.11/site-packages/sklearn/utils/deprecation.py:132: FutureWarning: 'force_all_finite' was renamed to 'ensure_all_finite' in 1.6 and will be removed in 1.8.\n",
      "  warnings.warn(\n",
      "/opt/anaconda3/lib/python3.11/site-packages/sklearn/utils/deprecation.py:132: FutureWarning: 'force_all_finite' was renamed to 'ensure_all_finite' in 1.6 and will be removed in 1.8.\n",
      "  warnings.warn(\n"
     ]
    },
    {
     "name": "stdout",
     "output_type": "stream",
     "text": [
      "Found 70 clusters.\n"
     ]
    }
   ],
   "source": [
    "# 🔍 Step 4: Cluster using HDBSCAN\n",
    "import hdbscan\n",
    "\n",
    "clusterer = hdbscan.HDBSCAN(min_cluster_size=3)\n",
    "labels = clusterer.fit_predict(embeddings)\n",
    "print(f\"Found {len(set(labels)) - (1 if -1 in labels else 0)} clusters.\")"
   ]
  },
  {
   "cell_type": "code",
   "execution_count": 19,
   "id": "d2ebe43e-d200-4149-b52d-4a098a550e23",
   "metadata": {
    "tags": []
   },
   "outputs": [
    {
     "name": "stderr",
     "output_type": "stream",
     "text": [
      "huggingface/tokenizers: The current process just got forked, after parallelism has already been used. Disabling parallelism to avoid deadlocks...\n",
      "To disable this warning, you can either:\n",
      "\t- Avoid using `tokenizers` before the fork if possible\n",
      "\t- Explicitly set the environment variable TOKENIZERS_PARALLELISM=(true | false)\n"
     ]
    },
    {
     "data": {
      "image/png": "[encoded data removed]",
      "text/plain": [
       "<Figure size 1000x600 with 2 Axes>"
      ]
     },
     "metadata": {},
     "output_type": "display_data"
    }
   ],
   "source": [
    "# 📊 Step 5: Visualize clusters with t-SNE\n",
    "from sklearn.manifold import TSNE\n",
    "import matplotlib.pyplot as plt\n",
    "\n",
    "tsne = TSNE(n_components=2, random_state=42)\n",
    "reduced = tsne.fit_transform(embeddings)\n",
    "\n",
    "plt.figure(figsize=(10, 6))\n",
    "scatter = plt.scatter(reduced[:, 0], reduced[:, 1], c=labels, cmap=\"tab10\", alpha=0.8)\n",
    "plt.title(\"t-SNE of Energy Documents Clusters\")\n",
    "plt.colorbar(scatter, label=\"Cluster\")\n",
    "plt.show()"
   ]
  },
  {
   "cell_type": "code",
   "execution_count": 21,
   "id": "fb7d1a52-9262-408f-9f71-19635843d267",
   "metadata": {
    "tags": []
   },
   "outputs": [
    {
     "name": "stdout",
     "output_type": "stream",
     "text": [
      "\n",
      "📁 Cluster -1:\n",
      "- document_1065.pdf: MMiicchhiiggaann GGaass CChhooiiccee CCuussttoommeerr CCoonnttrraacctt LLaarrggee CCoommmmeerrcciiaall This Michigan Gas Choice Customer Contract (“Contract”) is entered into by and between Symmetry Energy Solutions, LLC (“Seller” or “Symmetry”), and the “Buyer” identified in the Contract Summary be...\n",
      "- document_707.pdf: Telephone: 1 800 448 0995(toll free) One Lincoln Centre, 110 West Fayette Street, Suite 400 Syracuse, NY 13202 Customer-Services-US@smartestenergy.com SALES AGREEMENT Ohio Customer Name: Sparkle Market South Mailing Address: Billing Address (if different): 4121 South Ave Youngstown, OH 44512 United ...\n",
      "\n",
      "📁 Cluster 0:\n",
      "- document_459.pdf: ...\n",
      "- document_1111.pdf: ...\n",
      "\n",
      "📁 Cluster 1:\n",
      "- document_501.pdf: ...\n",
      "- document_16.pdf: ...\n",
      "\n",
      "📁 Cluster 2:\n",
      "- document_39.pdf: You have opened this PDF in preview mode and will not have full functionality. Download the PDF using Adobe Reader to pay by Bank Account or Electronic Check. Making a payment via your Mobile Device or by Credit / Debit Card? No PDF download required, you may follow the instructions in this preview ...\n",
      "- document_149.pdf: You have opened this PDF in preview mode and will not have full functionality. Download the PDF using Adobe Reader to pay by Bank Account or Electronic Check. Making a payment via your Mobile Device or by Credit / Debit Card? No PDF download required, you may follow the instructions in this preview ...\n",
      "\n",
      "📁 Cluster 3:\n",
      "- document_604.pdf: 51-8060-78 SA-22189 $44019.64 ...\n",
      "- document_613.pdf: 51-8060-78 SA-22189 $3680.48 ...\n",
      "\n",
      "📁 Cluster 4:\n",
      "- document_610.pdf: 52-8060-78 PO: SJ-19943 $32,969.46 ...\n",
      "- document_611.pdf: 52-8060-78 PO: SJ-22909 ...\n",
      "\n",
      "📁 Cluster 5:\n",
      "- document_1012.pdf: Your payment was successful Your payment of $4,470.50 has been processed. A payment receipt has been emailed to kjbrown@herbein.com. Successful Payments Payee Account Number Status Con\u0000rmation # Amount Philadelphia Gas Works 0852991318 ✓ PAID 34957732238 $4,470.50 Total Payment $4,470.50 ...\n",
      "- document_1011.pdf: Your payment was successful Your payment of $4,470.50 has been processed. A payment receipt has been emailed to kjbrown@herbein.com. Successful Payments Payee Account Number Status Con\u0000rmation # Amount Philadelphia Gas Works 0852991318 ✓ PAID 34957732238 $4,470.50 Total Payment $4,470.50 ...\n",
      "\n",
      "📁 Cluster 6:\n",
      "- document_752.pdf: DocuSign Envelope ID: FC913BC2-0880-4BFF-8BE4-22BEBA8146D5 (cid:0)(cid:1)(cid:1)(cid:2)(cid:3)(cid:4)(cid:5)(cid:6)(cid:7)(cid:8)(cid:9)(cid:10)(cid:9)(cid:11)(cid:12)(cid:13) (cid:30)(cid:13)(cid:12)(cid:13)(cid:23)(cid:25)(cid:2)(cid:4)(cid:13)(cid:31) ! (cid:7)! \"(cid:7)!(cid:28)!# (cid:14)(cid:1...\n",
      "- document_753.pdf: DocuSign Envelope ID: FC913BC2-0880-4BFF-8BE4-22BEBA8146D5 (cid:0)(cid:1)(cid:1)(cid:2)(cid:3)(cid:4)(cid:5)(cid:6)(cid:7)(cid:8)(cid:9)(cid:10)(cid:9)(cid:11)(cid:12)(cid:13) (cid:30)(cid:13)(cid:12)(cid:13)(cid:23)(cid:25)(cid:2)(cid:4)(cid:13)(cid:31) ! (cid:7)! \"(cid:7)!(cid:28)!# (cid:14)(cid:1...\n",
      "\n",
      "📁 Cluster 7:\n",
      "- document_712.pdf: DocuSign Envelope ID: 106A7809-E01C-4D42-9D75-47DC4EAE989B DocuSign Envelope ID: 106A7809-E01C-4D42-9D75-47DC4EAE989B Jack Goodson Head of Corporate Sales 17-05-2023 DocuSign Envelope ID: 106A7809-E01C-4D42-9D75-47DC4EAE989B DocuSign Envelope ID: 106A7809-E01C-4D42-9D75-47DC4EAE989B DocuSign Envelop...\n",
      "- document_363.pdf: DocuSign Envelope ID: 7B77312A-9872-44DF-8096-C7B6FCE6DFB7 DocuSign Envelope ID: 7B77312A-9872-44DF-8096-C7B6FCE6DFB7 DocuSign Envelope ID: 7B77312A-9872-44DF-8096-C7B6FCE6DFB7 9/3/2019 DocuSign Envelope ID: 7B77312A-9872-44DF-8096-C7B6FCE6DFB7 DocuSign Envelope ID: 7B77312A-9872-44DF-8096-C7B6FCE6D...\n",
      "\n",
      "📁 Cluster 8:\n",
      "- document_505.pdf: (cid:15)(cid:6)(cid:6)(cid:7)(cid:16)(cid:13)(cid:17)(cid:18)(cid:19)(cid:7)(cid:20) (cid:21)(cid:22)(cid:23)(cid:23)(cid:24)(cid:25)(cid:26)(cid:23)(cid:27)(cid:23)(cid:28)(cid:23) (cid:0)(cid:2)(cid:0)(cid:3)(cid:4)(cid:5)(cid:6)(cid:7)(cid:8)(cid:9)(cid:8)(cid:0)(cid:10)(cid:0)(cid:2)(cid:8) (cid...\n",
      "- document_511.pdf: (cid:15)(cid:6)(cid:6)(cid:7)(cid:16)(cid:13)(cid:17)(cid:18)(cid:19)(cid:7)(cid:20) (cid:21)(cid:22)(cid:23)(cid:24)(cid:25)(cid:26)(cid:27)(cid:25)(cid:28)(cid:26)(cid:29)(cid:30) (cid:0)(cid:2)(cid:0)(cid:3)(cid:4)(cid:5)(cid:6)(cid:7)(cid:8)(cid:9)(cid:8)(cid:0)(cid:10)(cid:0)(cid:2)(cid:8) (cid...\n",
      "\n",
      "📁 Cluster 9:\n",
      "- document_374.pdf: (cid:209)⁄(cid:149)@(cid:240)(cid:246)k@(cid:242)(cid:240)æø ˆ⁄¢£(cid:150)(cid:148)(cid:133)(cid:153)@´(cid:137)(cid:147)(cid:147) (cid:215)@`@(cid:212)(cid:201)˜(cid:211)(cid:214)ª¨(cid:201)`(cid:213)@(cid:201)(cid:213)ˆ ææı(cid:240)(cid:240)@´(cid:228)(cid:226)Ł@(cid:226)ª@{@(cid:213) (cid:213)@ˆ¨...\n",
      "- document_360.pdf: (cid:212)(cid:129)¤@(cid:243)(cid:240)k@(cid:242)(cid:240)æø ˆ⁄¢£(cid:150)(cid:148)(cid:133)(cid:153)@´(cid:137)(cid:147)(cid:147) (cid:201)(cid:213)ˆ@(cid:215)(cid:211)`Ø`@`Øª¯ˆ`@(cid:226)ª¯(cid:217)(cid:211)(cid:201)(cid:213)˙ (cid:244)ıøø(cid:240)@(cid:230)`ª¯(cid:217)(cid:229)(cid:201)¯(cid:230)...\n",
      "\n",
      "📁 Cluster 10:\n",
      "- document_38.pdf:       (cid:210)»'˙–fi(cid:181)    (cid:220)•›‰·–›«fi»˝‹¿‹»‡»†‹  (cid:221)–†‹fi¿‰‹(cid:215)(cid:220)(cid:230)(cid:239)(cid:239)(cid:238)(cid:231)Œ(cid:238)(cid:238) (cid:210)˙(cid:220)(cid:215)˝(cid:221)(cid:212)(cid:209)˝¸˛(cid:219)˝(cid:204)(cid:223)(cid:204)(cid:219)(cid:211)(cid:219)(c...\n",
      "- document_40.pdf:       (cid:210)»'˙–fi(cid:181)    (cid:220)•›‰·–›«fi»˝‹¿‹»‡»†‹  (cid:221)–†‹fi¿‰‹(cid:215)(cid:220)(cid:230)(cid:239)(cid:239)(cid:237)(cid:239)º(cid:231)(cid:236) (cid:210)˙(cid:220)(cid:215)˝(cid:221)(cid:212)(cid:209)˝¸˛(cid:219)˝(cid:204)(cid:223)(cid:204)(cid:219)(cid:211)(cid:219)(c...\n",
      "\n",
      "📁 Cluster 11:\n",
      "- document_638.pdf: (cid:128)(cid:38)(cid:77)(cid:10)(cid:85)(cid:47)(cid:81)(cid:9)(cid:115)(cid:45)(cid:93)(cid:10)(cid:113)(cid:8)(cid:65)(cid:31)(cid:68)(cid:43) (cid:128)(cid:81)(cid:8)(cid:68)(cid:113)(cid:55)(cid:91)(cid:55)(cid:86)(cid:65)(cid:59)(cid:118)(cid:84)(cid:69)(cid:37)(cid:93)(cid:58)(cid:86) (cid:12...\n",
      "- document_636.pdf: (cid:128)(cid:38)(cid:77)(cid:10)(cid:85)(cid:47)(cid:81)(cid:9)(cid:115)(cid:45)(cid:93)(cid:10)(cid:113)(cid:8)(cid:65)(cid:31)(cid:68)(cid:43) (cid:128)(cid:81)(cid:8)(cid:68)(cid:113)(cid:55)(cid:91)(cid:55)(cid:86)(cid:65)(cid:59)(cid:118)(cid:84)(cid:69)(cid:37)(cid:93)(cid:58)(cid:86) (cid:12...\n",
      "\n",
      "📁 Cluster 12:\n",
      "- document_648.pdf: (cid:128)(cid:37)(cid:78)(cid:41)(cid:81)(cid:7)(cid:113)(cid:27)(cid:65)(cid:53)(cid:69)(cid:10)(cid:113)(cid:6)(cid:66)(cid:32)(cid:68)(cid:43) (cid:128)(cid:19)(cid:70)(cid:83)(cid:87)(cid:56)(cid:102)(cid:36)(cid:74)(cid:86)(cid:59)(cid:99)(cid:89)(cid:111)(cid:27)(cid:23)(cid:106)(cid:86) (cid:...\n",
      "- document_632.pdf: (cid:128)(cid:37)(cid:78)(cid:41)(cid:81)(cid:7)(cid:113)(cid:27)(cid:65)(cid:53)(cid:69)(cid:10)(cid:113)(cid:6)(cid:66)(cid:32)(cid:68)(cid:43) (cid:128)(cid:19)(cid:70)(cid:83)(cid:87)(cid:56)(cid:102)(cid:36)(cid:74)(cid:86)(cid:59)(cid:99)(cid:89)(cid:111)(cid:27)(cid:23)(cid:106)(cid:86) (cid:...\n",
      "\n",
      "📁 Cluster 13:\n",
      "- document_652.pdf: DocuSign Envelope ID: B8DA0252-5E6A-4238-AD32-65FF28CD1E72 Business Development Manager: Jambois, John john.jambois@constellation.com Account Manager: Meyers, Joslyn joslyn.meyers@constellation.com Indicative Pricing Report The Indicative Pricing Sheet provides representative volumes, parameters and...\n",
      "- document_653.pdf: DocuSign Envelope ID: B8DA0252-5E6A-4238-AD32-65FF28CD1E72 Business Development Manager: Jambois, John john.jambois@constellation.com Account Manager: Meyers, Joslyn joslyn.meyers@constellation.com Indicative Pricing Report The Indicative Pricing Sheet provides representative volumes, parameters and...\n",
      "\n",
      "📁 Cluster 14:\n",
      "- document_100.pdf: Certificate Of Completion Envelope Id: 7D3BE7251C664C3AB3035C0F68914A72 Status: Completed Subject: Please DocuSign Hudson and Sprague Contracts for Littelfuse Source Envelope: Document Pages: 17 Signatures: 3 Envelope Originator: Certificate Pages: 5 Initials: 2 PK Robot AutoNav: Enabled 350 N LaSal...\n",
      "- document_361.pdf: Certificate Of Completion Envelope Id: 7B77312A987244DF8096C7B6FCE6DFB7 Status: Completed Subject: Please DocuSign: Virginia-DE-24 month contract1.pdf Source Envelope: Document Pages: 11 Signatures: 3 Envelope Originator: Certificate Pages: 4 Initials: 0 Frank Demaio AutoNav: Enabled 196 Andover Str...\n",
      "\n",
      "📁 Cluster 15:\n",
      "- document_1139.pdf: CenterPoint Energy: 800-227-1376 or visit CenterPointEnergy.com Call Before You Dig: 811 or 800-382-5544 | Relay Indiana: 800-743-3333 Billing Date: Jul 19, 2023 Date Due: Aug 5, 2023 Amount Due: $6,415.17 Amount Due After Aug 5, 2023 $6,595.24 Avoid the wait and take advantage of our convenient ser...\n",
      "- document_1138.pdf: CenterPoint Energy: 800-227-1376 or visit CenterPointEnergy.com Call Before You Dig: 811 or 800-382-5544 | Relay Indiana: 800-743-3333 Billing Date: Jul 19, 2023 Date Due: Aug 5, 2023 Amount Due: $6,415.17 Amount Due After Aug 5, 2023 $6,595.24 Avoid the wait and take advantage of our convenient ser...\n",
      "\n",
      "📁 Cluster 16:\n",
      "- document_658.pdf: Commercial Customer Acknowledgement Form Natural Gas Supply Contract (NIPSCO) I confirm that my sales representative explained that he or she is acting as an agent for Constellation NewEnergy - Gas Division, LLC (“Constellation”) and provided me with the following information: 1. I am entering into ...\n",
      "- document_1129.pdf: Commercial Customer Acknowledgement Form Natural Gas Supply Contract (NIPSCO) I confirm that my sales representative explained that he or she is acting as an agent for Constellation NewEnergy - Gas Division, LLC (“Constellation”) and provided me with the following information: 1. I am entering into ...\n",
      "\n",
      "📁 Cluster 17:\n",
      "- document_539.pdf: MARKETING DISCLOSURE This Marketing Disclosure is meant to provide you with a summary of the Agreement and not to be a substitute for reading the Agreement in full. Please refer to the rest of the Agreement for a full disclosure of all the applicable terms and conditions. Please make sure you have r...\n",
      "- document_138.pdf: MARKETING DISCLOSURE This Marketing Disclosure is meant to provide you with a summary of the Agreement and not to be a substitute for reading the Agreement in full. Please refer to the rest of the Agreement for a full disclosure of all the applicable terms and conditions. Please make sure you have r...\n",
      "\n",
      "📁 Cluster 18:\n",
      "- document_566.pdf: Your Energy Bill page 1 of 3 duke-energy.com 1.800.774.1202 Service address Bill date Nov 25, 2020 STANDARD AERO For service Oct 23 - Nov 24 11440 MOSTELLER RD 32 days CINCINNATI OH 45241 Account number 9970-2135-10-5 Billing summary Previous amount due $2,057.21 Payment received Nov 17 -2,057.21 Th...\n",
      "- document_565.pdf: Your Energy Bill page 1 of 3 duke-energy.com 1.800.774.1202 Service address Bill date Nov 25, 2020 STANDARD AERO For service Oct 23 - Nov 24 11420 MOSTELLER RD 32 days CINCINNATI OH 45241 Account number 5430-2116-05-1 Billing summary Previous amount due $3,379.74 Payment received Nov 17 -3,379.74 Th...\n",
      "\n",
      "📁 Cluster 19:\n",
      "- document_1028.pdf: Your Energy Bill Page 1 of 5 duke-energy.com 800.774.1202 Service address Bill date Jun 1, 2022 STANDARD AERO For service Apr 28 - May 25 11400 MOSTELLER RD 28 days CINCINNATI OH 45241 Account number 9101 1900 0402 Billing summary Previous Amount Due $3,004.68 Account services contact: Lera Hiler Du...\n",
      "- document_1029.pdf: Your Energy Bill Page 1 of 7 duke-energy.com 800.774.1202 Service address Bill date Jun 3, 2022 STANDARD AERO For service Mar 25 - May 25 11490 MOSTELLER RD 62 days CINCINNATI OH 45241 Account number 9101 1900 0262 Billing summary Previous Amount Due $17,389.89 Account services contact: Lera Hiler D...\n",
      "\n",
      "📁 Cluster 20:\n",
      "- document_563.pdf: Your Energy Bill page 1 of 5 duke-energy.com 1.800.265.6517 Service address Bill date Nov 25, 2020 STANDARD AERO For service Oct 23 - Nov 24 11490 MOSTELLER RD 32 days CINCINNATI OH 45241 Account number 3500-2122-02-0 Billing summary Previous amount due $10,775.75 Account services contact: LERA HILE...\n",
      "- document_562.pdf: Your Energy Bill page 1 of 5 duke-energy.com 1.800.265.6517 Service address Bill date Nov 25, 2020 STANDARD AERO For service Oct 23 - Nov 24 11490 MOSTELLER RD 32 days CINCINNATI OH 45241 Account number 3500-2122-02-0 Billing summary Previous amount due $10,775.75 Account services contact: LERA HILE...\n",
      "\n",
      "📁 Cluster 21:\n",
      "- document_567.pdf: Your Energy Bill page 1 of 3 duke-energy.com 1.800.774.1202 Service address Bill date Nov 25, 2020 STANDARD AERO For service Oct 23 - Nov 24 11550 MOSTELLER RD 32 days CINCINNATI OH 45241 Account number 8370-3704-01-0 Billing summary Previous amount due $9,184.95 Payment received Nov 17 -9,184.95 Th...\n",
      "- document_564.pdf: Your Energy Bill page 1 of 3 duke-energy.com 1.800.774.1202 Service address Bill date Nov 25, 2020 STANDARD AERO For service Oct 23 - Nov 24 11550 MOSTELLER RD 32 days CINCINNATI OH 45241 Account number 8370-3704-01-0 Billing summary Previous amount due $9,184.95 Payment received Nov 17 -9,184.95 Th...\n",
      "\n",
      "📁 Cluster 22:\n",
      "- document_808.pdf: AmerenIllinois.com Statement Issued 05/24/2022 Customer Service 1.800.232.2477 Amount Due $2,909.49 Due Date Jun 7, 2022 Last Payment $4,251.25 Account Number 2361528016 Payment received. Thank you. Customer Name MIDSTATE MANUFACTURING Service Address 519 MCCLURE ST UNIT E GALESBURG, IL 61401 Curren...\n",
      "- document_809.pdf: AmerenIllinois.com Statement Issued 05/24/2022 Customer Service 1.800.232.2477 Amount Due $267.25 Due Date Jun 7, 2022 Last Payment $485.82 Account Number 7038480020 Payment received. Thank you. Customer Name MIDSTATE MANUFACTURING Service Address 1360 MONMOUTH BLVD GALESBURG, IL 61401 Current Charg...\n",
      "\n",
      "📁 Cluster 23:\n",
      "- document_882.pdf: 050001004203920000354310000000000000354312 Account Number Payment Due Date Amount Now Due . 050-0010042-0392 . 11/21/23 . $354.31 Please make your check payable to: SCG Please lndicate Amount Paid . Please mail payment to: TAFADAFFAFDDAAFFAAATTDTTATAFFAADTFFTDDFATAAATFTFAFTTTDFFDDTAFFDAD WEST HAVEN ...\n",
      "- document_896.pdf: 050001138033520000221090000000000000221096 Account Number Payment Due Date Amount Now Due . 050-0011380-3352 . 11/21/23 . $221.09 Please make your check payable to: SCG Please lndicate Amount Paid . Please mail payment to: TAFADAFFAFDDAAFFAAATTDTTATAFFAADTFFTDDFATAAATFTFAFTTTDFFDDTAFFDAD WEST HAVEN ...\n",
      "\n",
      "📁 Cluster 24:\n",
      "- document_861.pdf: 050001002188380000302240000000000000302240 Account Number Payment Due Date Amount Now Due . 050-0010021-8838 . 11/21/23 . $302.24 Please make your check payable to: SCG Please lndicate Amount Paid . Please mail payment to: TAFADAFFAFDDAAFFAAATTDTTATAFFAADTFFTDDFATAAATFTFAFTTTDFFDDTAFFDAD MORRISEY MA...\n",
      "- document_898.pdf: 050001002185070000343910000000000000343916 Account Number Payment Due Date Amount Now Due . 050-0010021-8507 . 11/21/23 . $343.91 Please make your check payable to: SCG Please lndicate Amount Paid . Please mail payment to: TAFADAFFAFDDAAFFAAATTDTTATAFFAADTFFTDDFATAAATFTFAFTTTDFFDDTAFFDAD MORRISEY MA...\n",
      "\n",
      "📁 Cluster 25:\n",
      "- document_689.pdf: Totalamountdue Pleasepayby Billdate:August09,2021 Fortheperiod:July07,2021toAugust04,2021 $17,458.09 YoumayseePSE&Grepresentativesinyourneighborhoodthis NINEONTHEHUDSONCONDOASSOCIATION summer.Aspartofoureffortstosupportourcustomersaswerecover August 24, 2021 *NINEONTHEHUDSONCONDOASSOCIATI fromthefin...\n",
      "- document_688.pdf: Totalamountdue Pleasepayby Billdate:August09,2021 Fortheperiod:July07,2021toAugust04,2021 $7,576.12 YoumayseePSE&Grepresentativesinyourneighborhoodthis NINEONTHEHUDSONCONDOASSOCIATION summer.Aspartofoureffortstosupportourcustomersaswerecover August 24, 2021 *NINEONTHEHUDSONCONDOASSOCIATI fromthefina...\n",
      "\n",
      "📁 Cluster 26:\n",
      "- document_1075.pdf: DE Proprietary DE Proprietary EXHIBITAPRICINGATTACHMENT This Exhibit A is to the Transaction Confirmation dated October 21, 2019 between DIRECTENERGYBUSINESSLLC and Empire South Properties LLC for a term of 12 Months NEP_FEC_25MAC_UCB_MA Account Service Utility Utility Zone Capacity *Estimated Purch...\n",
      "- document_968.pdf: DE Proprietary DE Proprietary EXHIBIT A PRICING ATTACHMENT This Exhibit A is to the Transaction Confirmation dated June 20, 2018 between DIRECT ENERGY BUSINESS LLC and HOSPITALITY MANAGEMENT GROUP LLC for a term of 36 Months PJM_FP_AI_UCB_MD Account Service Location Utility Utility Zone Capacity / *...\n",
      "\n",
      "📁 Cluster 27:\n",
      "- document_214.pdf: Attachment A-1: Product and Pricing Summary Customer Identifier Pangea Ventures LLC Utility/EDC ComEd - IL No. of Service Location(s) 520 Offer Information Offer Generation Date 4/5/2019 Offer Expiration Time 4/8/2019 5:00 PM CPT Billing Method Single Bill - Utility/EDC Consolidated Billing Days to ...\n",
      "- document_212.pdf: Attachment A-1: Product and Pricing Summary Customer Identifier Pangea Ventures LLC Utility/EDC ComEd - IL No. of Service Location(s) 520 Offer Information Offer Generation Date 4/5/2019 Offer Expiration Time 4/8/2019 5:00 PM CPT Billing Method Single Bill - Utility/EDC Consolidated Billing Days to ...\n",
      "\n",
      "📁 Cluster 28:\n",
      "- document_215.pdf: Attachment A-1: Product and Pricing Summary Customer Identifier Pangea Ventures LLC Utility/EDC ComEd - IL No. of Service Location(s) 520 Offer Information Offer Generation Date 3/28/2019 Offer Expiration Time 3/29/2019 5:00 PM CPT Billing Method Single Bill - Utility/EDC Consolidated Billing Days t...\n",
      "- document_217.pdf: Attachment A-1: Product and Pricing Summary Customer Identifier Pangea Ventures LLC Utility/EDC ComEd - IL No. of Service Location(s) 520 Offer Information Offer Generation Date 3/28/2019 Offer Expiration Time 3/29/2019 5:00 PM CPT Billing Method Single Bill - Utility/EDC Consolidated Billing Days t...\n",
      "\n",
      "📁 Cluster 29:\n",
      "- document_1153.pdf: Account Number:724-320-001-6 Statement Date:06/23/2023 14831 Page 1 of2 Contact Us Account Profile Phone Customer Name: Your Contact Information: Type of Customer: Customer Service Hmr Acquisition Company DBA Hacienda Mexican Rt Non-Residential 1-888-689-8665 Inc Inc Gas Service 7 A.M. -4 P.M. CT Mo...\n",
      "- document_1152.pdf: Account Number:724-320-001-6 Statement Date:06/23/2023 14831 Page 1 of2 Contact Us Account Profile Phone Customer Name: Your Contact Information: Type of Customer: Customer Service Hmr Acquisition Company DBA Hacienda Mexican Rt Non-Residential 1-888-689-8665 Inc Inc Gas Service 7 A.M. -4 P.M. CT Mo...\n",
      "\n",
      "📁 Cluster 30:\n",
      "- document_846.pdf: Your AEP Energy Bill Summary From 05/06/2024 to 06/05/2024 (30 days) Issued on 06/06/2024 AEP Energy Account Number Utility Account Number 3023364266 6055304215 Location Name Utility Company (17) Fulton Property LLC ComEd Fulton Property LLC Service Address 1017 N Hooker St 8 50 W Fulton Market St C...\n",
      "- document_847.pdf: Your AEP Energy Bill Summary From 05/06/2024 to 06/05/2024 (30 days) Issued on 06/06/2024 AEP Energy Account Number Utility Account Number 3023364266 6055304215 Location Name Utility Company (17) Fulton Property LLC ComEd Fulton Property LLC Service Address 1017 N Hooker St 8 50 W Fulton Market St C...\n",
      "\n",
      "📁 Cluster 31:\n",
      "- document_389.pdf: Docusign Envelope ID: 738A3426-4D50-4D37-AE5C-471981942BAD Customer: S LOOP CHICAGO DEVELOPMENT II, LLC PR #: E2JGC0UG Contract #: E2JGC0UG ILLINOIS ELECTRIC ENERGY AGREEMENT COMMERCIAL SERVICE - FIXED PRICE This Electric Energy Agreement (the “Agreement”) is effective the 24rth day of February 2025...\n",
      "- document_391.pdf: Docusign Envelope ID: 738A3426-4D50-4D37-AE5C-471981942BAD Customer: S LOOP CHICAGO DEVELOPMENT II, LLC PR #: E2JGC0UG Contract #: E2JGC0UG ILLINOIS ELECTRIC ENERGY AGREEMENT COMMERCIAL SERVICE - FIXED PRICE This Electric Energy Agreement (the “Agreement”) is effective the 24rth day of February 2025...\n",
      "\n",
      "📁 Cluster 32:\n",
      "- document_348.pdf: $302.76 Totalamountdue April 19, 2022 Pleasepayby Your energy bill Billdate:April04, 2022 Fortheperiod:March 03,2022toMarch 31,2022 Message Center TRISPHARMAINC Smell.Leave.Call.Knowwhattodoifyousmellgas.Naturalgashasa distinctiveodorthatsmellslikerotteneggs.Ifyousmellgas,leavethe ACCOUNTNUMBER SERV...\n",
      "- document_349.pdf: $688.17 Totalamountdue April 19, 2022 Pleasepayby Your energy bill Billdate:April04, 2022 Fortheperiod:March 03,2022toMarch 31,2022 Message Center TRISPHARMAINC Smell.Leave.Call.Knowwhattodoifyousmellgas.Naturalgashasa distinctiveodorthatsmellslikerotteneggs.Ifyousmellgas,leavethe ACCOUNTNUMBER SERV...\n",
      "\n",
      "📁 Cluster 33:\n",
      "- document_99.pdf: SLMR 0000150 Bill Summary Bill Number: 230660019358056 Billing Period: 02/06/2023 - 03/06/2023 Usage This Period: 307,600 kWh Account Information Previous Balance: $74,815.83 Previous Payment: -$74,815.83 Account Name: EASYPAK, LLC Adjustments: $0.00 Account Number: 93184 Current Charges: $39,240.56...\n",
      "- document_98.pdf: SLMR 0000155 Bill Summary Bill Number: 230660019358065 Billing Period: 02/06/2023 - 03/06/2023 Usage This Period: 7,350 kWh Account Information Previous Balance: $508.57 Previous Payment: -$508.57 Account Name: EASYPAK, LLC Adjustments: $0.00 Account Number: 99615 Current Charges: $1,003.89 Service ...\n",
      "\n",
      "📁 Cluster 34:\n",
      "- document_439.pdf: I 010333196750 Page 1 of 4 Amount Now Due by 06/20/24 $22,223.03 An Avangrid company Account Number: 010-0001432-6119 Current Charges for Electricity statement Date: 05/23/2024 Supply Transmission Local Delivery Public Benefits Service Location: COOPER SURGICAL $6,442.00 $1,286,44 $2,012.62 $824.79 ...\n",
      "- document_438.pdf: 010151816955 Page 1 of 4 Amount Now Due by 06/20/24 $60,388.93 An Avangrid company Account Number; 010-0000380-0199 Current Charges for Electricity statement Date: 05/23/2024 Service Location; Supply Transmission Local Delivery Public Benefits COOPER SURGICAL $36,762.90 $9,096.46 $8,048.65 $4,725.87...\n",
      "\n",
      "📁 Cluster 35:\n",
      "- document_412.pdf: PUBLICSERVICECOMPANYOFCOLORADO Page 1of 6 MAILINGADDRESS ACCOUNTNUMBER DUEDATE PPFAMLILITTLETONVILLAGELLC 53-0011411250-7 05/11/2020 C/OCONSERVICE POBOX4697 STATEMENTNUMBER STATEMENTDATE AMOUNTDUE LOGANUT84323-4697 681717353 04/21/2020 $1,772.87 QUESTIONSABOUTYOURBILL? ACCOUNTBALANCE (Balancedesucue...\n",
      "- document_417.pdf: PUBLICSERVICECOMPANYOFCOLORADO Page 1of 12 MAILINGADDRESS ACCOUNTNUMBER DUEDATE AMLIRESIDENTIALPROPERTIESLP 53-0011936069-8 05/07/2020 C/OCONSERVICE POBOX4697 STATEMENTNUMBER STATEMENTDATE AMOUNTDUE LOGANUT84323-4697 681373152 04/17/2020 $9,915.74 QUESTIONSABOUTYOURBILL? ACCOUNTBALANCE (Balancedesuc...\n",
      "\n",
      "📁 Cluster 36:\n",
      "- document_381.pdf: BillBasedOn: ActualMeterReading,eBill Page 1 of 2 March 16, 2023 M71 Account Number: 100 014 523 847 Billing Period:Feb 10 to Mar 13, 2023 for 32 days BillFor: TRAY-PAK CORPORATION Amount Due: $11,833.66 BLDG 1 4216 READING CREST AVE Due Date: March 31, 2023 READING PA 19605 Toreportanemergencyorano...\n",
      "- document_380.pdf: BillBasedOn: ActualMeterReading,eBill Page 1 of 2 March 16, 2023 M71 Account Number: 100 051 362 612 Billing Period:Feb 10 to Mar 13, 2023 for 32 days BillFor: TRAY-PAK CORPORATION Amount Due: $17,031.94 BLDG 3 4101 READING CREST AVE Due Date: March 31, 2023 READING PA 19605 Toreportanemergencyorano...\n",
      "\n",
      "📁 Cluster 37:\n",
      "- document_234.pdf: BUSINESS ELECTRICITY AUTHORIZATION CONNECTICUT COMMERCIAL SALES License: 07-05-37 CUSTOMER INFORMATION Customer Name (“Customer”): BERLIN, TOWN OF Contract Type: ☒ Renewal Customer Contact Name: Arosha Jayawickrema Email: ajayawickrema@town.berlin.ct.us Primary Phone: (860) 828-7002 Secondary Phone:...\n",
      "- document_141.pdf: BUSINESS ELECTRICITY AUTHORIZATION TEXAS LARGE COMMERCIAL SALES CUSTOMER INFORMATION Customer Name (“Customer”): Anna Independent School District Contract Type: New Service ☒ Customer Contact Name: MICHAEL COMEAUX Email: michael.comeaux@annaisd.org Primary Phone: (972) 924-1072 Secondary Phone: Fax:...\n",
      "\n",
      "📁 Cluster 38:\n",
      "- document_407.pdf: DocuSign Envelope ID: FCD763FB-4463-4077-949A-A7294795F3FA **DRAFT** Account Manager: Meyers, Joslyn DEAL NO. 1993232 (779) 231-5435 joslyn.meyers@constellation.com Transaction Confirmation This Transaction Confirmation is delivered pursuant to and in accordance with a gas supply agreement (\"Gas Sup...\n",
      "- document_413.pdf: DocuSign Envelope ID: 6CE67EAD-9E38-4D5D-9A1B-C1B47CF43E90 **DRAFT** Account Manager: Langan, Melissa DEAL NO. 1160213 (317) 727-7584 melissa.langan@constellation.com Transaction Confirmation This Transaction Confirmation is delivered pursuant to and in accordance with a gas supply agreement (\"Gas S...\n",
      "\n",
      "📁 Cluster 39:\n",
      "- document_329.pdf: SALES CONFIRMATION FIXED+SECURE This Sales Confirmation supplements, forms a part of and is expressly subject to that certain Master Retail Electricity Sales Agreement (the 'Master Agreement') dated October 14, 2021, as may be amended from time to time, (which is incorporated herein for all purposes...\n",
      "- document_59.pdf: ELECTRICITY SUPPLY CONFIRMATION (PJM-PA) Coversheet This Electricity Supply Confirmation together with the Coversheet, the Facility Attachment, the Special Provisions, the Contract Summary (if required by the applicable Law), and any other addenda hereto (collectively, the “Confirmation”) is made pu...\n",
      "\n",
      "📁 Cluster 40:\n",
      "- document_857.pdf: Docusign Envelope ID: 79D0D5E4-FA9A-4731-8D32-FCB86FECBBE6 Telephone: 1-800-448-0995 One Lincoln Centre, 110 West Fayette Street, Suite 400 Syracuse, NY 13202 Customer-Services-US@smartestenergy.com SALES AGREEMENT Illinois Customer Name: Parker Hospitality Mailing Address: Billing Address (if diffe...\n",
      "- document_860.pdf: Docusign Envelope ID: 79D0D5E4-FA9A-4731-8D32-FCB86FECBBE6 Telephone: 1-800-448-0995 One Lincoln Centre, 110 West Fayette Street, Suite 400 Syracuse, NY 13202 Customer-Services-US@smartestenergy.com SALES AGREEMENT Illinois Customer Name: Parker Hospitality Mailing Address: Billing Address (if diffe...\n",
      "\n",
      "📁 Cluster 41:\n",
      "- document_823.pdf: Docusign Envelope ID: AB3815AD-739C-4D8B-BD7D-7EFFB9CDA52E Telephone: 1-800-448-0995 One Lincoln Centre, 110 West Fayette Street, Suite 400 Syracuse, NY 13202 Customer-Services-US@smartestenergy.com SALES AGREEMENT Illinois Customer Name: Parker Hospitality Mailing Address: Billing Address (if diffe...\n",
      "- document_821.pdf: Docusign Envelope ID: AB3815AD-739C-4D8B-BD7D-7EFFB9CDA52E Telephone: 1-800-448-0995 One Lincoln Centre, 110 West Fayette Street, Suite 400 Syracuse, NY 13202 Customer-Services-US@smartestenergy.com SALES AGREEMENT Illinois Customer Name: Parker Hospitality Mailing Address: Billing Address (if diffe...\n",
      "\n",
      "📁 Cluster 42:\n",
      "- document_969.pdf: CONTACTUS BGE.COM CustomerService: 800.685.0123 800.735.2258 (TTY-TTD) Correspondence: P.O.Box1475 Baltimore,MD21203 Bill Summary Page1of3 NortheastMgmtGroupLLC BGE ELECTRIC ELECTRICSUPPLY F10710Beaver-DamRd ELECTRIC WGLEnergyServices,Inc $5,275.84 Cockeysville,MD21030 DELIVERY wglenergy.com Account...\n",
      "- document_574.pdf: 2 Page1of3 Name: BELMONTBEHAVIORALHOSPLLC EmergencyandRepair AccountNumber: 29031-47037 800-841-4141 PhoneNumber: 215-581-9142 Thisisthenumbertocalltoreportpoweroutages,gasleaks ServiceAddress: New,4200MonumentRd,Philadelphia orodors,andsafetyhazardsrelatedtoPECOEquipment. PECO ELECTRIC ELECTRICSUPP...\n",
      "\n",
      "📁 Cluster 43:\n",
      "- document_918.pdf: ACCOUNT ID 0043169106 BILL MONTH October 2018 ) D Y N E BILL DATE 10/01/2018 INVOICE NUMBER 314612118101 CURRENT CHARGES $7,783.03 DUE BY 10/16/2018 ( TOTALAMOUNT DUE ) $7,783.03 900 S CLARK ASSOCIATES LP PO BOX 4697 LOGAN, UT 84323 ■To ensure prompt credit to your account, please detach and include...\n",
      "- document_200.pdf: ACCOUNT ID GMCMLW0002 BILL MONTH February 2019 BILL DATE 03/01/2019 INVOICE NUMBER 308780019021 CURRENT CHARGES $16,484.41 DUE BY 3/18/2019 TOTAL AMOUNT DUE $16,484.41 MATHER LIFEWAYS ATTN ACCOUNTS PAYABLE 1603 ORRINGTON AVE EVANSTON, IL 60201 ---To ensure prompt credit to your account, please detac...\n",
      "\n",
      "📁 Cluster 44:\n",
      "- document_44.pdf: DDooccuuSSiiggnn EEnnvveellooppee IIDD:: 81951B023F5F516C-5-D67F967-4-40BBEDB-B-922F953-5-97A1C61F5E08452253AFAE4 Cover Sheet to Master Energy Sales Agreement This contract is not binding until such time that it is executed by both Parties. In order for contract to be executed by MP2, customer must:...\n",
      "- document_45.pdf: DDooccuuSSiiggnn EEnnvveellooppee IIDD:: 81951B023F5F516C-5-D67F967-4-40BBEDB-B-922F953-5-97A1C61F5E08452253AFAE4 Cover Sheet to Master Energy Sales Agreement This contract is not binding until such time that it is executed by both Parties. In order for contract to be executed by MP2, customer must:...\n",
      "\n",
      "📁 Cluster 45:\n",
      "- document_60.pdf: Page 1 of 3 Bill Summary Account Number 2403142176 Name COUNTRYSIDE RNG Previous Balance $200,429.66 Visit ComEd.com Service Location 31725 IL83 GRAYSLAKE Total Payments-Thank You $102,264.26 Phone Number 404-474-0744 Customer Service / Power Outage Amount Due onFebruary 6, 2024 $202,033.03 English ...\n",
      "- document_87.pdf: Page 1 of 2 Bill Summary Account Number 3965135123 Name KINGSBURY CENTER Previous Balance $1,996.95 Visit ComEd.com Service Location 440 N ORLEANS ST BLDG Total Payments-Thank You $1,996.95 CHICAGO Customer Service / Power Outage Phone Number 312-595-3281 Amount Due onJune 21, 2022 $1,458.86 English...\n",
      "\n",
      "📁 Cluster 46:\n",
      "- document_103.pdf: SERVICE FOR BILLING PERIOD PAGE 1 of 3 IXYS INTEGRATED CIRCUITS DIV Aug 28, 2019 to Sep 27, 2019 ATTN: ACCOUNTS PAYABLE 78 CHERRY HILL DR ACCOUNT NUMBER BEVERLY MA 01915 62628-99012 Oct 23, 2019 $ 103,781.60 www.nationalgridus.com TERMINATION NOTICE IN EFFECT CUSTOMER SERVICE 1-800-322-3223 Our reco...\n",
      "- document_93.pdf: SERVICE FOR BILLING PERIOD PAGE 1 of 4 MICHAEL MARANDA LLC Dec 30, 2019 to Jan 29, 2020 2140 COUNTY ROUTE 1, ELEC OSWEGO NY 13126 ACCOUNT NUMBER 13199-37133 Mar 1, 2020 $ 14,610.77 www.nationalgridus.com ACCOUNT BALANCE C & I BUSINESS TEAM M-F 8-5 1-800-664-6729 Previous Balance 7,411.31 Payment Rec...\n",
      "\n",
      "📁 Cluster 47:\n",
      "- document_1017.pdf: ELECTRIC SERVICE AGREEMENT EXHIBIT A – Standard Large Stable Issued: October 15, 2021 This offer is presented to STANDARD AERO (“Customer”) by DYNEGY ENERGY SERVICES EAST, LLC (“Supplier”) and represents a price for Customer’s full requirement retail power (“Retail Power”) needs at the service locat...\n",
      "- document_382.pdf: ELECTRIC SERVICE AGREEMENT EXHIBIT A – Standard Large Stable Issued: March 31, 2022 This offer is presented to S LOOP CHICAGO DEVELOPMENT II, LLC (“Customer”) by DYNEGY ENERGY SERVICES, LLC (“Supplier”) and represents a price for Customer’s full requirement retail power (“Retail Power”) needs at the...\n",
      "\n",
      "📁 Cluster 48:\n",
      "- document_499.pdf: Agreement is Not Valid Unless Executed by Seller Constellation NewEnergy, Inc. Ohio Electricity Supply Agreement TOLEDO MUSEUM OF ART (“Customer”) AND Constellation NewEnergy, Inc. (''Seller'') AGREE AS FOLLOWS: Defined Terms. Capitalized terms have the meanings set out in this Electricity Supply Ag...\n",
      "- document_466.pdf: DocuSign Envelope ID: 823DBFB3-AB63-4342-9EEA-E3219AEE52A1 Agreement is Not Valid Unless Executed by Seller Constellation NewEnergy, Inc. Electricity Supply Agreement – Fixed Price Solutions SALEMA MANAGEMENT CORPORATION (“Customer”) AND Constellation NewEnergy, Inc. (''Seller'') AGREE AS FOLLOWS: D...\n",
      "\n",
      "📁 Cluster 49:\n",
      "- document_101.pdf: Monthly Invoice Statement Date: 09/30/2019 Customer Number: 6682585-1 IXYS Integrated Circuits Division Inc. - 6262899012 78 CHERRY HILL DR BEVERLY,MA 01915-1065 No Payment Due Rate Plan: Fixed Price Solutions Previous Balance: $91,946.63 Account ID: 7138414 Payments Since Last Invoice: -$187,880.35...\n",
      "- document_954.pdf: Monthly Invoice Constellation Statement Date: 08/02/2018 An Exelon Company Customer Number: 7305600-6 River North Devco, LLC -1331059049 71 W. Hubbard St. CHICAGO, IL 60654-4637 $20,195.82 Total Amount Due by 08/23/2018 Rate Plan: Flexible Index Solutions Previous Balance: $19,670.56 Account ID: 808...\n",
      "\n",
      "📁 Cluster 50:\n",
      "- document_831.pdf: Page1of3 Issued7/9/24 Account# 9259514000 $4,857.79 PaymentDeducted on 7/24/24 SERVICEFROM6/6/24THROUGH7/8/24(32DAYS) RetailDeliveryService-0to100kW Thankyouforyourpaymentstotaling $4,019.99. 804RandyLLC 802WRandolphSt Chicago,IL60607 (847)224-4676 AVERAGEDAILYUSE(monthlyusage/daysinperiod) CurrentM...\n",
      "- document_830.pdf: Page1of3 Issued7/9/24 Account# 9259514000 $4,857.79 PaymentDeducted on 7/24/24 SERVICEFROM6/6/24THROUGH7/8/24(32DAYS) RetailDeliveryService-0to100kW Thankyouforyourpaymentstotaling $4,019.99. 804RandyLLC 802WRandolphSt Chicago,IL60607 (847)224-4676 AVERAGEDAILYUSE(monthlyusage/daysinperiod) CurrentM...\n",
      "\n",
      "📁 Cluster 51:\n",
      "- document_840.pdf: Page1of3 Issued6/11/24 Account# 8589525111 $4,043.25 PaymentDeducted on 6/26/24 SERVICEFROM5/9/24THROUGH6/10/24(32DAYS) RetailDeliveryService-100kWto400kW Thankyouforyourpaymentstotaling $3,276.18. HamptonSocialBurrridgeLLC 705Village-CenterDr*Bldg BurrRidge,IL60527 (847)525-8452 AVERAGEDAILYUSE(mon...\n",
      "- document_841.pdf: Page1of3 Issued6/11/24 Account# 8589525111 $4,043.25 PaymentDeducted on 6/26/24 SERVICEFROM5/9/24THROUGH6/10/24(32DAYS) RetailDeliveryService-100kWto400kW Thankyouforyourpaymentstotaling $3,276.18. HamptonSocialBurrridgeLLC 705Village-CenterDr*Bldg BurrRidge,IL60527 (847)525-8452 AVERAGEDAILYUSE(mon...\n",
      "\n",
      "📁 Cluster 52:\n",
      "- document_837.pdf: Page1of3 Issued6/11/24 Account# 7232691222 $847.62 PaymentDeducted on 6/26/24 SERVICEFROM5/9/24THROUGH6/10/24(32DAYS) RetailDeliveryService-0to100kW Thankyouforyourpaymentstotaling $952.25. HamptonSocialBurrridgeLLC 715Village-CenterDr BurrRidge,IL60527 (847)525-8452 AVERAGEDAILYUSE(monthlyusage/day...\n",
      "- document_836.pdf: Page1of3 Issued6/11/24 Account# 7232691222 $847.62 PaymentDeducted on 6/26/24 SERVICEFROM5/9/24THROUGH6/10/24(32DAYS) RetailDeliveryService-0to100kW Thankyouforyourpaymentstotaling $952.25. HamptonSocialBurrridgeLLC 715Village-CenterDr BurrRidge,IL60527 (847)525-8452 AVERAGEDAILYUSE(monthlyusage/day...\n",
      "\n",
      "📁 Cluster 53:\n",
      "- document_1058.pdf: nrg�- This Commoditv Master Agreement {\"CMA\") among Direct Energy Business, LLC and NRG Business Marketing LLC, (collectively \"Seller'1, each a Delaware limited liao1lify company, and Bixby International Corp. (\"Buyer\" or \"Customer\") (each a \"Party\" and collectively, the \"Parties\") is entered into a...\n",
      "- document_114.pdf:  This Commodity Master Agreement (\"CMA\") among Direct Energy Business, LLC, Direct Energy Business Marketing, LLC d/b/a Direct Energy Business, (collectively \"Seller\"), each a Delaware limited liability company, and PAS TECHNOLOGIES INC. DBA STANDARD AERO (\"Buyer\" or \"Customer\") (each a \"Party\" and...\n",
      "\n",
      "📁 Cluster 54:\n",
      "- document_73.pdf: DDooccuuSSiiggnn EEnnvveellooppee IIDD:: 81951B023F5F516C-5-D67F967-4-40BBEDB-B-922F953-5-97A1C61F5E08452253AFAE4 This Commodity Master Agreement (\"CMA\") among Direct Energy Business, LLC, Direct Energy Business Marketing, LLC d/b/a Direct Energy Business, (collectively \"Seller\"), each a Delaware li...\n",
      "- document_74.pdf: DDooccuuSSiiggnn EEnnvveellooppee IIDD:: 81951B023F5F516C-5-D67F967-4-40BBEDB-B-922F953-5-97A1C61F5E08452253AFAE4 This Commodity Master Agreement (\"CMA\") among Direct Energy Business, LLC, Direct Energy Business Marketing, LLC d/b/a Direct Energy Business, (collectively \"Seller\"), each a Delaware li...\n",
      "\n",
      "📁 Cluster 55:\n",
      "- document_843.pdf: Page1of3 Issued6/7/24 Account# 8798683000 $4,500.37 PaymentDeducted on 6/24/24 SERVICEFROM5/7/24THROUGH6/6/24(30DAYS) RetailDeliveryService-100kWto400kW Thankyouforyourpaymentstotaling $4,023.27. 351KingsburyCornerLLC 414NOrleansSt*Unit105 Chicago,IL60610 (847)525-8452 AVERAGEDAILYUSE(monthlyusage/d...\n",
      "- document_842.pdf: Page1of3 Issued6/7/24 Account# 8798683000 $4,500.37 PaymentDeducted on 6/24/24 SERVICEFROM5/7/24THROUGH6/6/24(30DAYS) RetailDeliveryService-100kWto400kW Thankyouforyourpaymentstotaling $4,023.27. 351KingsburyCornerLLC 414NOrleansSt*Unit105 Chicago,IL60610 (847)525-8452 AVERAGEDAILYUSE(monthlyusage/d...\n",
      "\n",
      "📁 Cluster 56:\n",
      "- document_824.pdf: Page1of3 Issued6/6/24 Account# 0644966000 $6,590.16 PaymentDeducted on 6/21/24 SERVICEFROM5/7/24THROUGH6/5/24(29DAYS) RetailDeliveryService-100kWto400kW Thankyouforyourpaymentstotaling $6,960.24. HssvLLC 164EGrandAve*Bldg Chicago,IL60611 (847)525-8452 AVERAGEDAILYUSE(monthlyusage/daysinperiod) Curre...\n",
      "- document_826.pdf: Page1of3 Issued6/6/24 Account# 0644966000 $6,590.16 PaymentDeducted on 6/21/24 SERVICEFROM5/7/24THROUGH6/5/24(29DAYS) RetailDeliveryService-100kWto400kW Thankyouforyourpaymentstotaling $6,960.24. HssvLLC 164EGrandAve*Bldg Chicago,IL60611 (847)525-8452 AVERAGEDAILYUSE(monthlyusage/daysinperiod) Curre...\n",
      "\n",
      "📁 Cluster 57:\n",
      "- document_852.pdf: Page1of3 Issued6/6/24 Account# 7676009000 $5,830.07 PaymentDeducted on 6/21/24 SERVICEFROM5/3/24THROUGH6/4/24(32DAYS) RetailDeliveryService-100kWto400kW Thankyouforyourpaymentstotaling $4,648.52. HamptonSocialSkokieLLC 4999Oldorchard*UnitC22 Skokie,IL60077 AVERAGEDAILYUSE(monthlyusage/daysinperiod) ...\n",
      "- document_853.pdf: Page1of3 Issued6/6/24 Account# 7676009000 $5,830.07 PaymentDeducted on 6/21/24 SERVICEFROM5/3/24THROUGH6/4/24(32DAYS) RetailDeliveryService-100kWto400kW Thankyouforyourpaymentstotaling $4,648.52. HamptonSocialSkokieLLC 4999Oldorchard*UnitC22 Skokie,IL60077 AVERAGEDAILYUSE(monthlyusage/daysinperiod) ...\n",
      "\n",
      "📁 Cluster 58:\n",
      "- document_854.pdf: Issued5/30/24 Account# 5417082000 $6,182.27 PaymentDeducted on 6/14/24 SERVICEFROM4/29/24THROUGH5/29/24(30DAYS) RetailDeliveryService-100kWto400kW Thankyouforyourpaymentstotaling $5,717.07. HamptonSocialLLCSouthBarrington 100WHigginsRd*SteC-2 SouthBarrington,IL60010 AVERAGEDAILYUSE(monthlyusage/days...\n",
      "- document_855.pdf: Issued5/30/24 Account# 5417082000 $6,182.27 PaymentDeducted on 6/14/24 SERVICEFROM4/29/24THROUGH5/29/24(30DAYS) RetailDeliveryService-100kWto400kW Thankyouforyourpaymentstotaling $5,717.07. HamptonSocialLLCSouthBarrington 100WHigginsRd*SteC-2 SouthBarrington,IL60010 AVERAGEDAILYUSE(monthlyusage/days...\n",
      "\n",
      "📁 Cluster 59:\n",
      "- document_328.pdf: DocuSign Envelope ID: 9B335CA5-1073-492E-9DFD-3180D90F77F9 Agreement No: EA-49003 BASE GAS SALES AGREEMENT This Base Gas Sales Agreement (this “Base Contract) is entered into as of 1/1/2023 (the “Effective Date”) between Symmetry Energy Solutions, LLC, a Delaware limited liability company (“Seller”)...\n",
      "- document_202.pdf: PHYSICAL TRANSACTION CONFIRMATION Trade Date: 06/23/2023 Confirmation #: 23246133 FOR IMMEDIATE DELIVERY This Transaction Confirmation (\"Transaction\") is subject to the Base Contract between Seller and Buyer dated 12/01/2007. The terms of this Transaction are binding unless disputed within 2 Busines...\n",
      "\n",
      "📁 Cluster 60:\n",
      "- document_649.pdf: DocuSign Envelope ID: 17E50C0D-F425-40F6-8448-73E661E4607C MASTER RETAIL NATURAL GAS SUPPLY AGREEMENT This Master Retail Natural Gas Supply Agreement (“Master Agreement”) is entered into as of August 26, 2021 (“Effective Date”) by and between Pangea Ventures, LLC (“Customer”) and Constellation NewEn...\n",
      "- document_647.pdf: DocuSign Envelope ID: 17E50C0D-F425-40F6-8448-73E661E4607C MASTER RETAIL NATURAL GAS SUPPLY AGREEMENT This Master Retail Natural Gas Supply Agreement (“Master Agreement”) is entered into as of August 26, 2021 (“Effective Date”) by and between Pangea Ventures, LLC (“Customer”) and Constellation NewEn...\n",
      "\n",
      "📁 Cluster 61:\n",
      "- document_987.pdf: Direct Energy Business Marketing, LLC d/b/a Direct Energy Business 194 Wood Avenue South, Second Floor, Iselin, NJ 08830 Phone: 1-888-925-9115 Proposal Id 58229452 business.directenergy.com Marketer Name Kopala, Jeffrey Date 9/18/2019 Time 2:20:35 PM CUSTOMER INFORMATION Customer Name Asbury Plaza V...\n",
      "- document_985.pdf: DocuSign Envelope ID: 0C2F6D53-A0FE-45FF-8307-283ED036F525 Direct Energy Business Marketing, LLC d/b/a Direct Energy Business 194 Wood Avenue South, Second Floor, Iselin, NJ 08830 Phone: 1-888-925-9115 Proposal Id 58229452 business.directenergy.com Marketer Name Kopala, Jeffrey Date 9/18/2019 Time 2...\n",
      "\n",
      "📁 Cluster 62:\n",
      "- document_1166.pdf: Direct Energy Business Marketing, LLC d/b/a Direct Energy Business 194 Wood Avenue South, Second Floor, Iselin, NJ 08830 Proposal Id 54157566 Phone: 1-888-925-9115 business.directenergy.com Marketer Name Kopala, Jeffrey Date 12/31/2018 Time 11:45:13AM CUSTOMER INFORMATION Customer Name Standard Mapl...\n",
      "- document_1164.pdf: Direct Energy Business Marketing, LLC d/b/a Direct Energy Business 194 Wood Avenue South, Second Floor, Iselin, NJ 08830 Proposal Id 54157566 Phone: 1-888-925-9115 business.directenergy.com Marketer Name Kopala, Jeffrey Date 12/31/2018 Time 11:45:13AM CUSTOMER INFORMATION Customer Name Standard Mapl...\n",
      "\n",
      "📁 Cluster 63:\n",
      "- document_1105.pdf: Page 1 We deliver. Meter 301560108 Account 93371-92005 1-800-342-5775 Due Date Amount Due For hours of operation and to pay/manage your account, visit pplelectric.com. 12/29/21 $416.72 Service to : POCONO MOUNTAIN RECOVERY CTR 3437 RT 715 HWY, FIRE PUMP HENRYVILLE, PA 18332 Usage from Nov 9 - Dec 9 ...\n",
      "- document_1104.pdf: Page 1 We deliver. Meter 300512990 Account 9 2391-15004 1-800-342-5775 Due Date Amount Due For hours of operation and to pay/manage your account, visit pplelectric.com. 12/8/21 $1,218.64 Service to : WHITE DEER RUN HCF 53 NW END AVE LANCASTER, PA 17603 Usage from Oct 20 - Nov 18 Supply $978.03 $210....\n",
      "\n",
      "📁 Cluster 64:\n",
      "- document_1070.pdf: Account:1000 8814 1112 Questions: $4,530.82 Amount Due: Visit:ConsumersEnergy.com Callus:800-805-0490 Please pay by: February 15, 2023 In case of an emergency, call us immediately day or night at 1-800-477-5050. ThankYou-Wereceived yourlastpaymentof$3,768.74 onJanuary11,2023 CHARLOTTE BURGERS INC 26...\n",
      "- document_1066.pdf: Account:1000 9273 1510 Questions: $5,296.89 Amount Due: Visit:ConsumersEnergy.com Callus:800-805-0490 Please pay by: February 07, 2023 In case of an emergency, call us immediately day or night at 1-800-477-5050. ThankYou-Wereceived yourlastpaymentof$4,547.01 onDecember30,2022 S & L PROPERTIES HASTIN...\n",
      "\n",
      "📁 Cluster 65:\n",
      "- document_673.pdf: Payment will be sent to bank $697.77 for processing on 05/26/23 Account Number: 5143 618 7058 Statement Date: 05/25/23 Amount Due On 05/25/23 $747.14 Service Provided To: Last Payment Received On 04/28/23 -$747.14 A.M. DONUTS, INC. Balance Forward $0.00 Total Current Charges $697.77 Electric Usage H...\n",
      "- document_667.pdf: Payment will be sent to bank $637.71 for processing on 06/10/23 Account Number: 5106 381 6078 Statement Date: 06/09/23 Amount Due On 06/06/23 $699.93 Service Provided To: Last Payment Received On 05/10/23 -$699.93 ROUTE 66 DONUTS LLC Balance Forward $0.00 Total Current Charges $637.71 Electric Usage...\n",
      "\n",
      "📁 Cluster 66:\n",
      "- document_471.pdf: No Payment Due Account Number: 5441 420 7019 Statement Date: 04/04/23 Amount Due On 03/31/23 -$11,449.21 Service Provided To: Last Payment Received $0.00 AGAWAM DONUTS Balance Forward -$11,449.21 Total Current Charges -$120.46 Electric Usage History -Kilowatt Hours (kWh) Current Charges for Electric...\n",
      "- document_465.pdf: Total Amount Due $325.25 by 05/08/23 Account Number: 5454 840 2072 Statement Date: 04/13/23 Amount Due On 04/09/23 $1,309.24 Service Provided To: Last Payment Received On 04/04/23 -$1,309.24 JOHN SALEMA Balance Forward $0.00 Total Current Charges $325.25 Electric Usage History -Kilowatt Hours (kWh) ...\n",
      "\n",
      "📁 Cluster 67:\n",
      "- document_317.pdf: 6066503 1-4-2024 $80,912.63 1 M J EVERSSURCE Total Amount Due $2,222.16 Account Number: 5160 051 3022 by 02/16/24 Statement Date: 12/18/23 j AmountDue 0n12/11/23 $2,376.90 Service Provided To: j LastPayment Received On 11/15/23 -$1,162.11 TOWN OF BERLIN I Balance Forward E Total Current Charges ■^,0...\n",
      "- document_263.pdf: 6066463 1-4-2024 $10,559.83 EVERSeURCE Total Amount Due $125. by 02/12/24 Account Number: 5146 932 8009 Statement Date: 12/14/23 Amount Due On 12/11/23 S82.13 Service Provided To: Last Payment Received On 12/13/23 TOWN OF BERLiN Balance Forward $0.00 Total Current Charges $125.36 I- Electric Usage H...\n",
      "\n",
      "📁 Cluster 68:\n",
      "- document_303.pdf: 6066716 1-17-24 $10,522.68 EVERSSURCE Total Amount Due 122. Account Number: 5162 802 3087 by 03/02/24 > StatementDate: 01/02/24 Amount Due On 12/29/23 $5,845.07 Service ProvidedTo: Last Payment Received On 12/27/23 -$5,845.07 TOWN OF BERLiN Balance Forward $0.00 Total Current Charges $6,122.01 Curre...\n",
      "- document_288.pdf: 6066716 1-17-24 $10,522.68 EVERSeURCE Total Amount Due by 03/02/24 Account Number: 5181 412 3071 Statement Date: 01/02/24 Amount Due On 12/29/23 $6.55 Service Provided To: Last Payment Received On 12/27/23 -$6.55 TOWN OF BERLIN Balance Forward $0.00 Total Current Charges $6.54 CurreM Chargas for Ele...\n",
      "\n",
      "📁 Cluster 69:\n",
      "- document_289.pdf: 6066716 1-17-24 $10,522.68 EVERSeURCE Total Amount Due $702. by 03/02/24 Account Number: 5113 012 3003 Statement Date: 01/02/24 Amount Due On 12/29/23 $693.43 Service Provided To: Last Payment Received On 12/27/23 -$693.43 TOWN OFBERLiN Balance Forward $0.00 Total Current Charges $702.76 Currentchar...\n",
      "- document_315.pdf: 6066716 1-17-24 $10,522.68 EVERSeURCE Total Amount Due $702. by 03/02/24 Account Number: 5113 012 3003 Statement Date: 01/02/24 Amount Due On 12/29/23 $693.43 Service Provided To: Last Payment Received On 12/27/23 -$693.43 TOWN OFBERLiN Balance Forward $0.00 Total Current Charges $702.76 Currentchar...\n"
     ]
    }
   ],
   "source": [
    "# 🗂️ Step 6: Inspect clusters\n",
    "import pandas as pd\n",
    "\n",
    "df = pd.DataFrame({\n",
    "    \"filename\": filenames,\n",
    "    \"text\": texts,\n",
    "    \"cluster\": labels\n",
    "})\n",
    "\n",
    "# Show 2 sample files per cluster\n",
    "for cluster_id in sorted(df['cluster'].unique()):\n",
    "    print(f\"\\n📁 Cluster {cluster_id}:\")\n",
    "    subset = df[df['cluster'] == cluster_id].head(2)\n",
    "    for _, row in subset.iterrows():\n",
    "        preview = row[\"text\"][:300].replace(\"\\n\", \" \")\n",
    "        print(f\"- {row['filename']}: {preview}...\")"
   ]
  },
  {
   "cell_type": "code",
   "execution_count": null,
   "id": "aeecbad9-c6f8-4810-a9df-16d80fd3e94a",
   "metadata": {},
   "outputs": [],
   "source": []
  }
 ],
 "metadata": {
  "kernelspec": {
   "display_name": "Python 3 (ipykernel)",
   "language": "python",
   "name": "python3"
  },
  "language_info": {
   "codemirror_mode": {
    "name": "ipython",
    "version": 3
   },
   "file_extension": ".py",
   "mimetype": "text/x-python",
   "name": "python",
   "nbconvert_exporter": "python",
   "pygments_lexer": "ipython3",
   "version": "3.11.7"
  }
 },
 "nbformat": 4,
 "nbformat_minor": 5
}
