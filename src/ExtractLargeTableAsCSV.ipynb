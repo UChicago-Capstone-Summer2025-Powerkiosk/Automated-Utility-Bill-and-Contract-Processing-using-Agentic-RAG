{
 "cells": [
  {
   "cell_type": "markdown",
   "id": "68bac5d8-b6de-4cf1-9802-066c694c211e",
   "metadata": {},
   "source": [
    "# Identify all markdown files in the master folder which contain folders of files"
   ]
  },
  {
   "cell_type": "markdown",
   "id": "51820104-b20a-47c4-97a1-1cde16028bd5",
   "metadata": {},
   "source": [
    "# Detect large tables in each file"
   ]
  },
  {
   "cell_type": "markdown",
   "id": "421d53f4-9ef6-4a74-81bf-501609e0198f",
   "metadata": {},
   "source": [
    "# Extract the table data"
   ]
  },
  {
   "cell_type": "markdown",
   "id": "b00266f3-be53-46ab-ab73-ee9368d2ee5b",
   "metadata": {},
   "source": [
    "# Save it as a CSV file "
   ]
  },
  {
   "cell_type": "markdown",
   "id": "2f56a3e4-8f3b-4e35-a543-984ec837fdad",
   "metadata": {},
   "source": [
    "# Reference the table in the Markdown"
   ]
  }
 ],
 "metadata": {
  "kernelspec": {
   "display_name": "Python 3 (ipykernel)",
   "language": "python",
   "name": "python3"
  },
  "language_info": {
   "codemirror_mode": {
    "name": "ipython",
    "version": 3
   },
   "file_extension": ".py",
   "mimetype": "text/x-python",
   "name": "python",
   "nbconvert_exporter": "python",
   "pygments_lexer": "ipython3",
   "version": "3.11.7"
  }
 },
 "nbformat": 4,
 "nbformat_minor": 5
}
