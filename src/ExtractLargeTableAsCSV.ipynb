{
 "cells": [
  {
   "cell_type": "markdown",
   "id": "68bac5d8-b6de-4cf1-9802-066c694c211e",
   "metadata": {},
   "source": [
    "# Identify all markdown files in the master folder which contain folders of files"
   ]
  },
  {
   "cell_type": "markdown",
   "id": "da76d4f2-844d-4141-99a0-9d7e67092249",
   "metadata": {},
   "source": [
    "Functions that are useful to iterate through each file"
   ]
  },
  {
   "cell_type": "code",
   "execution_count": 14,
   "id": "a1e18212-67e4-44e6-a753-1ddc9245eb54",
   "metadata": {
    "tags": []
   },
   "outputs": [],
   "source": [
    "import os"
   ]
  },
  {
   "cell_type": "code",
   "execution_count": 24,
   "id": "fdb78547-e9b0-4035-ae9f-d03250433f05",
   "metadata": {
    "tags": []
   },
   "outputs": [],
   "source": [
    "# Function that yields one file path at a time, ignoring .DS_Store and non-image files\n",
    "def get_files_one_by_one(directory: str) -> str:\n",
    "    for root, dirs, files in os.walk(directory):\n",
    "        for file in files:\n",
    "            # Skip .DS_Store file\n",
    "            if file == '.DS_Store':\n",
    "                continue\n",
    "            # Include only .md files\n",
    "            if file.lower().endswith(\".md\"):\n",
    "                yield os.path.join(root, file)\n",
    "\n",
    "# Function that gets all file paths in a list by calling get_files_one_by_one\n",
    "def get_file_paths(directory: str) -> list:\n",
    "    return list(get_files_one_by_one(directory))\n",
    "\n",
    "def get_file_name_and_parent_folder(file_path: str) -> (str, str):\n",
    "    file_name = os.path.basename(file_path)  # Extracts the file name\n",
    "    parent_folder = os.path.basename(os.path.dirname(file_path))  # Extracts the parent folder\n",
    "    return parent_folder, file_name"
   ]
  },
  {
   "cell_type": "code",
   "execution_count": 18,
   "id": "4b62bd7f-35b7-4ecf-a7b6-dbea7027397f",
   "metadata": {
    "tags": []
   },
   "outputs": [
    {
     "data": {
      "text/plain": [
       "['../data/ocr_results_outputs/document_1020/document_1020.md',\n",
       " '../data/ocr_results_outputs/document_904/document_904.md',\n",
       " '../data/ocr_results_outputs/document_138/document_138.md',\n",
       " '../data/ocr_results_outputs/document_597/document_597.md',\n",
       " '../data/ocr_results_outputs/document_107/document_107.md']"
      ]
     },
     "execution_count": 18,
     "metadata": {},
     "output_type": "execute_result"
    }
   ],
   "source": [
    "list_of_md_files = get_file_paths(\"../data/ocr_results_outputs/\")\n",
    "list_of_md_files[:5]"
   ]
  },
  {
   "cell_type": "markdown",
   "id": "51820104-b20a-47c4-97a1-1cde16028bd5",
   "metadata": {},
   "source": [
    "# Detect large tables in each file"
   ]
  },
  {
   "cell_type": "code",
   "execution_count": null,
   "id": "69bb9277-b3f7-42c5-9513-780006d3a65c",
   "metadata": {},
   "outputs": [],
   "source": [
    "min_num_rows = 15"
   ]
  },
  {
   "cell_type": "code",
   "execution_count": 73,
   "id": "2dc97162-babb-46b7-a0ab-aa0abe89cf41",
   "metadata": {
    "tags": []
   },
   "outputs": [],
   "source": [
    "import re"
   ]
  },
  {
   "cell_type": "code",
   "execution_count": 77,
   "id": "49176382-51e9-4f0d-b2fe-7ae18cda14d5",
   "metadata": {
    "tags": []
   },
   "outputs": [],
   "source": [
    "def is_alignment_line(line):\n",
    "    \"\"\"Check if a line is a Markdown table alignment line.\"\"\"\n",
    "    return bool(re.match(r'^\\s*\\|?(\\s*:?-+:?\\s*\\|)+\\s*$', line))\n",
    "\n",
    "def extract_markdown_tables(md_path):\n",
    "    \"\"\"Extract tables from a Markdown file using alignment lines and track start/end.\"\"\"\n",
    "    tables = []\n",
    "    inside_table = False\n",
    "    current_table = []\n",
    "    start_index = None\n",
    "\n",
    "    with open(md_path, 'r', encoding='utf-8') as md_file:\n",
    "        lines = md_file.readlines()\n",
    "\n",
    "    for i, line in enumerate(lines):\n",
    "        stripped = line.strip()\n",
    "\n",
    "        if is_alignment_line(stripped):\n",
    "            # Alignment line means start of new table\n",
    "            current_table = []\n",
    "\n",
    "            # Optional header just above the alignment line\n",
    "            if i > 0 and lines[i - 1].strip().startswith('|'):\n",
    "                current_table.append((i - 1, lines[i - 1]))\n",
    "                start_index = i - 1\n",
    "            else:\n",
    "                start_index = i\n",
    "\n",
    "            current_table.append((i, line))\n",
    "            inside_table = True\n",
    "\n",
    "        elif inside_table:\n",
    "            if stripped.startswith('|'):\n",
    "                current_table.append((i, line))\n",
    "            elif is_alignment_line(stripped):\n",
    "                # Don't end table yet — alignment line means a new one is about to start\n",
    "                # Save current table before continuing\n",
    "                if current_table:\n",
    "                    tables.append({\n",
    "                        \"start\": start_index,\n",
    "                        \"end\": current_table[-1][0],\n",
    "                        \"lines\": current_table\n",
    "                    })\n",
    "                # Prepare to reprocess this line\n",
    "                current_table = []\n",
    "                inside_table = False\n",
    "                start_index = None\n",
    "\n",
    "                # Re-evaluate this line as the start of a new table in next loop\n",
    "                continue\n",
    "            else:\n",
    "                # End of table\n",
    "                if current_table:\n",
    "                    tables.append({\n",
    "                        \"start\": start_index,\n",
    "                        \"end\": current_table[-1][0],\n",
    "                        \"lines\": current_table\n",
    "                    })\n",
    "                inside_table = False\n",
    "                current_table = []\n",
    "                start_index = None\n",
    "\n",
    "    # Final table at EOF\n",
    "    if inside_table and current_table:\n",
    "        tables.append({\n",
    "            \"start\": start_index,\n",
    "            \"end\": current_table[-1][0],\n",
    "            \"lines\": current_table\n",
    "        })\n",
    "\n",
    "    return tables"
   ]
  },
  {
   "cell_type": "markdown",
   "id": "421d53f4-9ef6-4a74-81bf-501609e0198f",
   "metadata": {},
   "source": [
    "# Extract the table data"
   ]
  },
  {
   "cell_type": "markdown",
   "id": "b00266f3-be53-46ab-ab73-ee9368d2ee5b",
   "metadata": {},
   "source": [
    "# Save it as a CSV file "
   ]
  },
  {
   "cell_type": "markdown",
   "id": "2f56a3e4-8f3b-4e35-a543-984ec837fdad",
   "metadata": {},
   "source": [
    "# Reference the table in the Markdown"
   ]
  }
 ],
 "metadata": {
  "kernelspec": {
   "display_name": "Python 3 (ipykernel)",
   "language": "python",
   "name": "python3"
  },
  "language_info": {
   "codemirror_mode": {
    "name": "ipython",
    "version": 3
   },
   "file_extension": ".py",
   "mimetype": "text/x-python",
   "name": "python",
   "nbconvert_exporter": "python",
   "pygments_lexer": "ipython3",
   "version": "3.11.7"
  }
 },
 "nbformat": 4,
 "nbformat_minor": 5
}
