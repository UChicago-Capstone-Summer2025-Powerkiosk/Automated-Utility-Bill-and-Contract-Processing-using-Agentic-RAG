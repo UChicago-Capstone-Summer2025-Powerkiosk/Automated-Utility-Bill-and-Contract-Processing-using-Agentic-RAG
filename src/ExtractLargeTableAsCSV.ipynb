{
 "cells": [
  {
   "cell_type": "markdown",
   "id": "68bac5d8-b6de-4cf1-9802-066c694c211e",
   "metadata": {},
   "source": [
    "# Identify all markdown files in the master folder which contain folders of files"
   ]
  },
  {
   "cell_type": "markdown",
   "id": "da76d4f2-844d-4141-99a0-9d7e67092249",
   "metadata": {},
   "source": [
    "Functions that are useful to iterate through each file"
   ]
  },
  {
   "cell_type": "code",
   "execution_count": 14,
   "id": "a1e18212-67e4-44e6-a753-1ddc9245eb54",
   "metadata": {
    "tags": []
   },
   "outputs": [],
   "source": [
    "import os"
   ]
  },
  {
   "cell_type": "code",
   "execution_count": 24,
   "id": "fdb78547-e9b0-4035-ae9f-d03250433f05",
   "metadata": {
    "tags": []
   },
   "outputs": [],
   "source": [
    "# Function that yields one file path at a time, ignoring .DS_Store and non-image files\n",
    "def get_files_one_by_one(directory: str) -> str:\n",
    "    for root, dirs, files in os.walk(directory):\n",
    "        for file in files:\n",
    "            # Skip .DS_Store file\n",
    "            if file == '.DS_Store':\n",
    "                continue\n",
    "            # Include only .md files\n",
    "            if file.lower().endswith(\".md\"):\n",
    "                yield os.path.join(root, file)\n",
    "\n",
    "# Function that gets all file paths in a list by calling get_files_one_by_one\n",
    "def get_file_paths(directory: str) -> list:\n",
    "    return list(get_files_one_by_one(directory))\n",
    "\n",
    "def get_file_name_and_parent_folder(file_path: str) -> (str, str):\n",
    "    file_name = os.path.basename(file_path)  # Extracts the file name\n",
    "    parent_folder = os.path.basename(os.path.dirname(file_path))  # Extracts the parent folder\n",
    "    return parent_folder, file_name"
   ]
  },
  {
   "cell_type": "code",
   "execution_count": 18,
   "id": "4b62bd7f-35b7-4ecf-a7b6-dbea7027397f",
   "metadata": {
    "tags": []
   },
   "outputs": [
    {
     "data": {
      "text/plain": [
       "['../data/ocr_results_outputs/document_1020/document_1020.md',\n",
       " '../data/ocr_results_outputs/document_904/document_904.md',\n",
       " '../data/ocr_results_outputs/document_138/document_138.md',\n",
       " '../data/ocr_results_outputs/document_597/document_597.md',\n",
       " '../data/ocr_results_outputs/document_107/document_107.md']"
      ]
     },
     "execution_count": 18,
     "metadata": {},
     "output_type": "execute_result"
    }
   ],
   "source": [
    "list_of_md_files = get_file_paths(\"../data/ocr_results_outputs/\")\n",
    "list_of_md_files[:5]"
   ]
  },
  {
   "cell_type": "markdown",
   "id": "51820104-b20a-47c4-97a1-1cde16028bd5",
   "metadata": {},
   "source": [
    "# Detect large tables in each file"
   ]
  },
  {
   "cell_type": "markdown",
   "id": "421d53f4-9ef6-4a74-81bf-501609e0198f",
   "metadata": {},
   "source": [
    "# Extract the table data"
   ]
  },
  {
   "cell_type": "markdown",
   "id": "b00266f3-be53-46ab-ab73-ee9368d2ee5b",
   "metadata": {},
   "source": [
    "# Save it as a CSV file "
   ]
  },
  {
   "cell_type": "markdown",
   "id": "2f56a3e4-8f3b-4e35-a543-984ec837fdad",
   "metadata": {},
   "source": [
    "# Reference the table in the Markdown"
   ]
  }
 ],
 "metadata": {
  "kernelspec": {
   "display_name": "Python 3 (ipykernel)",
   "language": "python",
   "name": "python3"
  },
  "language_info": {
   "codemirror_mode": {
    "name": "ipython",
    "version": 3
   },
   "file_extension": ".py",
   "mimetype": "text/x-python",
   "name": "python",
   "nbconvert_exporter": "python",
   "pygments_lexer": "ipython3",
   "version": "3.11.7"
  }
 },
 "nbformat": 4,
 "nbformat_minor": 5
}
